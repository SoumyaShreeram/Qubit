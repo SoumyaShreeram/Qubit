{
  "cells": [
    {
      "cell_type": "markdown",
      "source": [
        "# Sending a ramp pulse through a 3 cavity-2 qubit system, <mark>with thermal losses</mark> \n",
        "\n",
        "1. **Introduction**\n",
        "2. **Problem parameters**\n",
        "3. **Setting up operators, Hamiltonian's, and the initial state**\n",
        "4. **Generating a pulse wave**\n",
        "    * No thermal losses considered\n",
        "5. **Results**\n",
        "    * Final state, Fidelity, Concurrence\n",
        "\n",
        "<u>Author</u> : Soumya Shreeram (shreeramsoumya@gmail.com)<br>\n",
        "<u>Supervisor</u> : Yu-Chin Chao (ychao@fnal.gov) <br>\n",
        "<u>Date</u>$\\ \\ \\ \\$: 22nd July 2019<br>\n",
        "\n",
        "This script was coded as part of the Helen Edwards Summer Internship program at Fermilab."
      ],
      "metadata": {}
    },
    {
      "cell_type": "markdown",
      "source": [
        "## 1. Introduction\n",
        "\n",
        "A multi-mode QED architecture is explored as described in by [McKay et *al*](http://schusterlab.uchicago.edu/static/pdfs/McKay2015.pdf). The hamiltonian for such a system with two qubits with frequencies $v_{Q,1}$, $v_{Q,2}$, and $n$ mode filter can be described as the sum of the qubit Hamiltonian, $\\hat{H}_Q$, the filter Hamiltonian, $\\hat{H}_F$, and the qubit-filter coupling Hamiltonian, $\\hat{H}_{Q-F},$\n",
        "$$ \\hat{H} = \\hat{H_Q} + \\hat{H_F} + \\hat{H}_{Q-F} $$\n",
        "\n",
        "$$ \\hat{H_Q} = h\\ v_{Q,1}\\ \\frac{\\hat{ \\sigma}^z_1}{2} + h\\ v_{Q,2}\\ \\frac{\\hat{ \\sigma}^z_2}{2}$$\n",
        "\n",
        "$$ \\hat{H}_{F} = \\sum_{i=1}^{n}h\\ v_{F}\\ \\hat{a}^{\\dagger}_i \\hat{a}_i +  \\sum_{i=2}^{n}h\\ g_{F}\\ (\\hat{a}^{\\dagger}_i \\hat{a}_{i-1} + \\hat{a}^{\\dagger}_{i-1} \\hat{a}_i)$$\n",
        "\n",
        "$$ \\hat{H}_{Q-F} = h\\ g_{Q1,F}\\ (\\hat{a}^{\\dagger}_1 \\hat{\\sigma}^-_1 + \\hat{a}_1 \\hat{\\sigma}^+_1) + h\\ g_{Q2,F}\\ (\\hat{a}^{\\dagger}_n \\hat{\\sigma}^-_2 + \\hat{a}_n \\hat{\\sigma}^+_2)$$\n",
        "\n",
        "where $\\hat{\\sigma}^{+(-)}$ is the raising and lowering operator for the qubit, $\\hat{a}_i$ creates a photon in the $i^{th}$ resonantor, $g_F$ is the filter-filter coupling, and $g_{Q,F}$ is the qubit-filter coupling.\n",
        "\n",
        "Here we must also account for the interaction of the quantum state with it's environment. This can be represented by a non-Hermitian term in the Hamiltonian such that,\n",
        "$$\\displaystyle H_{\\rm eff}(t) = H(t) - \\frac{i\\hbar}{2}\\sum_n c_n^\\dagger c_n$$\n",
        "where $c_n$ is the collapse operator\n",
        "\n",
        "The code calculates the occupation probability for a system when a ramp pulse is genrated at the qubit 1 resonance frequency."
      ],
      "metadata": {}
    },
    {
      "cell_type": "code",
      "source": [
        "%matplotlib inline\n",
        "import matplotlib.pyplot as plt\n",
        "plt.rcParams.update({'font.size': 16})\n",
        "\n",
        "import numpy as np\n",
        "from numpy import ones,vstack\n",
        "from numpy.linalg import lstsq\n",
        "from math import pi\n",
        "\n",
        "from time import sleep\n",
        "import sys\n",
        "\n",
        "from qutip import *"
      ],
      "outputs": [],
      "execution_count": 80,
      "metadata": {
        "collapsed": false,
        "outputHidden": false,
        "inputHidden": false
      }
    },
    {
      "cell_type": "markdown",
      "source": [
        "## 2. Problem parameters\n",
        "Here we use $\\hbar=1$; the coupling terms are redefined with a multiple of $2\\pi$ before them for convinience."
      ],
      "metadata": {}
    },
    {
      "cell_type": "code",
      "source": [
        "\"\"\"------------- FREQUENCIES -----------------\"\"\"\n",
        "w_q1 = 2*pi*6.5;     # Qubit 1 frequency\n",
        "w_q2 = 2*pi*6.8;     # Qubit 2 frequency: range from 1-9 GHz\n",
        "w_f = 2*pi*7.1;      # Resonator/ Filter frequency\n",
        "\n",
        "\"\"\"------------- COUPLING --------------------\"\"\"\n",
        "g_f1 = 2*pi*0.0118    # Filter-filter coupling\n",
        "g_f2 = 2*pi*0.0344 \n",
        "g_q1f = 2*pi*0.0135   # qubit 1-fitler coupling\n",
        "g_q2f = 2*pi*0.0415   # qubit 2-fitler coupling\n",
        "\n",
        "numF = 3             # number of filters\n",
        "N = 2                # number of fock states \n",
        "times = np.linspace(0,100,1000)\n",
        "\n",
        "\"\"\"------------- DISSIPATION PARAMETERS -----\"\"\"\n",
        "kappa = 0.75         # cavity dissipation rate\n",
        "n_th_a = 0.003       # avg. no. of thermal bath excitation\n",
        "r1 = 0.075           # qubit relaxation rate\n",
        "r2 = 0.025           # qubit dephasing rate\n",
        "\n",
        "\"\"\"------------- CONTROL GATE PARAMETERS -----\"\"\"\n",
        "# defines the ramp-up start time, hold start time, hold stop time, ramp-down stop time  \n",
        "#gate_width = (1*pi)/(2 * g_q1f)\n",
        "t_pulse = [10, 11, 79, 80]\n",
        "# amplitude to raise pulse above cavity frequency\n",
        "d = 0.5\n",
        "w_top = w_f + 2*pi*d\n",
        "no_ramps = 30        # number of ramps pulses sent into the Hamiltonian"
      ],
      "outputs": [],
      "execution_count": 98,
      "metadata": {
        "collapsed": false,
        "outputHidden": false,
        "inputHidden": false
      }
    },
    {
      "cell_type": "markdown",
      "source": [
        "## 3. Setting up the operators, Hamiltonian's, and Initial state\n",
        "\n",
        "For every qubit: <br> <br>\n",
        "**sm** $\\ \\rightarrow \\ \\hat{\\sigma}^{+(-)}$ is the raising and lowering operator of the *qubit* <br>\n",
        "**sz** $\\ \\ \\rightarrow \\ \\sigma_z $ is the Pauli-z matrix of the *qubit* <br>\n",
        "**n** $\\ \\ \\ \\rightarrow \\ n$ is the number operator"
      ],
      "metadata": {}
    },
    {
      "cell_type": "code",
      "source": [
        "def numOp(m):\n",
        "  \"\"\"\n",
        "  Computes the number operator \n",
        "  @param loweringMat :: lowering matrix operator for a system\n",
        "  \"\"\"\n",
        "  return m.dag()*m\n",
        "\n",
        "def rwaCoupling(m1, m2):\n",
        "    return m1.dag()*m2 + m1*m2.dag()"
      ],
      "outputs": [],
      "execution_count": 99,
      "metadata": {
        "collapsed": false,
        "outputHidden": false,
        "inputHidden": false
      }
    },
    {
      "cell_type": "markdown",
      "source": [
        "### 3.1 Operators "
      ],
      "metadata": {}
    },
    {
      "cell_type": "code",
      "source": [
        "# cavity 1, 2, 3 destruction operators\n",
        "a1 = tensor(destroy(N), qeye(N), qeye(N), qeye(2), qeye(2))\n",
        "a2 = tensor(qeye(N), destroy(N), qeye(N), qeye(2), qeye(2))\n",
        "a3 = tensor(qeye(N), qeye(N), destroy(N), qeye(2), qeye(2))\n",
        "\n",
        "# operators for qubit 1 \n",
        "sm1 = tensor(qeye(N), qeye(N), qeye(N), sigmam(), qeye(2))\n",
        "sz1 = tensor(qeye(N), qeye(N), qeye(N), sigmaz(), qeye(2))    \n",
        "n1 = sm1.dag() * sm1\n",
        "\n",
        "# operators for qubit 2\n",
        "sm2 = tensor(qeye(N), qeye(N), qeye(N), qeye(2), sigmam())\n",
        "sz2 = tensor(qeye(N), qeye(N), qeye(N), qeye(2), sigmaz())\n",
        "n2 = sm2.dag() * sm2"
      ],
      "outputs": [],
      "execution_count": 100,
      "metadata": {
        "collapsed": false,
        "outputHidden": false,
        "inputHidden": false
      }
    },
    {
      "cell_type": "code",
      "source": [
        "# collapse operators\n",
        "c_ops = []\n",
        "\n",
        "# cavity relaxation\n",
        "rate = kappa * (1 + n_th_a)\n",
        "c_ops.append(np.sqrt(rate) * a1)\n",
        "    \n",
        "# cavity excitation\n",
        "\n",
        "# qubit 1 relaxation\n",
        "c_ops.append(np.sqrt(r1 * (1+n_th_a)) * sm1)\n",
        "c_ops.append(np.sqrt(r1 * n_th_a) * sm1.dag())\n",
        "c_ops.append(np.sqrt(r2) * sz1)\n",
        "\n",
        "# qubit 2 relaxation\n",
        "c_ops.append(np.sqrt(r1 * (1+n_th_a)) * sm2)\n",
        "c_ops.append(np.sqrt(r1 * n_th_a) * sm2.dag())\n",
        "c_ops.append(np.sqrt(r2) * sz2)"
      ],
      "outputs": [],
      "execution_count": 101,
      "metadata": {
        "collapsed": false,
        "outputHidden": false,
        "inputHidden": false
      }
    },
    {
      "cell_type": "markdown",
      "source": [
        "### 3.2 Hamiltonian's and initial state"
      ],
      "metadata": {}
    },
    {
      "cell_type": "code",
      "source": [
        "# Qubit Hamiltonians (Hq1+Hq2)\n",
        "Hq1 = 0.5*sz1       \n",
        "Hq2 = 0.5*sz2\n",
        "\n",
        "# Filter Hamiltonians (refer formula in the Introduction)\n",
        "Hf = numOp(a1) + numOp(a2) + numOp(a3)    \n",
        "H_f12 = g_f1*(rwaCoupling(a1, a2) + rwaCoupling(a2, a3))\n",
        "\n",
        "# Qubit-Filter Hamiltonian\n",
        "Hqf = g_q1f*(rwaCoupling(a1, sm1) + rwaCoupling(a3, sm2))\n",
        "\n",
        "# time-independent Hamiltonian (see later)\n",
        "H0 = H_f12 + Hqf + w_f*Hf\n",
        " \n",
        "H = H0 + w_q1*Hq1  # Resultant Hamiltonian"
      ],
      "outputs": [],
      "execution_count": 111,
      "metadata": {
        "collapsed": false,
        "outputHidden": false,
        "inputHidden": false
      }
    },
    {
      "cell_type": "markdown",
      "source": [
        "### 3.3 Initial State"
      ],
      "metadata": {}
    },
    {
      "cell_type": "code",
      "source": [
        "# initial state of the system. Qubit 1: excited, Qubit 2: ground st.\n",
        "psi0 = tensor(basis(N,0), basis(N,0), basis(N,0), basis(2,0), basis(2,1))"
      ],
      "outputs": [],
      "execution_count": 112,
      "metadata": {
        "collapsed": false,
        "outputHidden": false,
        "inputHidden": false
      }
    },
    {
      "cell_type": "markdown",
      "source": [
        "## 4. Generating the pulse wave\n",
        "\n",
        "Tranformations on closed quantum states can be modelled by unitary operators. The combined time-dependent Hamiltonian for a system undergoing a tranformation that can be representated as,\n",
        "$$ H(t) = H_0 + \\sum_{i=0}^n c_i(t)H_i$$\n",
        "where $H_0$ is called the time-independent drift Hamiltonian and $H_i$ are the control Hamiltonians with a time varying amplitude $c_i(t)$.\n",
        "\n",
        "Here we write the Hamiltonian in a function-based time dependent way. See other ways [here](http://qutip.org/docs/latest/guide/dynamics/dynamics-time.html). Here the time-dependent coefficients, $f_n(t)$ of the Hamiltonian (e.g. `wf_t, w1_t,w2_t`) are expressed using Python functions \n",
        "\n",
        "### 4.1 Function generators"
      ],
      "metadata": {}
    },
    {
      "cell_type": "code",
      "source": [
        "def fitLine(t_pulse, i, j, w1, w2, t):\n",
        "    \"\"\"\n",
        "    Function generates a best fit line between [x1, y1] ->[x2, y2]\n",
        "    Input:\n",
        "        @param t_pulse :: np array containing the 4 points parameterizing the pulse\n",
        "        @param i,j :: indicies of t_pulse determining the start-stop times\n",
        "        @param w1, w2 :: lower and higher frequencies of the ramp pulse\n",
        "        @param t :: interable time variable\n",
        "    Returns:\n",
        "        @polynomial(t) :: best-fit y value at t\n",
        "    \"\"\"\n",
        "    # compute coefficients\n",
        "    coefficients = np.polyfit([t_pulse[i], t_pulse[j]], [w1/(2*pi), w2/(2*pi)], 1) \n",
        "    # generate best-fit polynmial\n",
        "    polynomial = np.poly1d(coefficients)    \n",
        "    return polynomial(t)\n",
        "\n",
        "def rampPulseGen(t_pulse, w1, w2, t):\n",
        "    \"\"\"\n",
        "    Generating a ramp pulse\n",
        "    Input:\n",
        "        @param t_pulse :: np array containing the 4 points parameterizing the pulse\n",
        "        @param w1, w2 :: lower and higher frequencies of the ramp pulse\n",
        "        @param t :: interable time variable\n",
        "    Returns:\n",
        "        @param w :: int giving the y-value based on t\n",
        "    \"\"\"\n",
        "    if t > t_pulse[0] and t <= t_pulse[1]:\n",
        "        w = fitLine(t_pulse, 0, 1, w1, w2, t)\n",
        "    elif t > t_pulse[1] and t <= t_pulse[2]:\n",
        "        w = w2/(2*pi)\n",
        "    elif t > t_pulse[2] and t <= t_pulse[3]:\n",
        "        w = fitLine(t_pulse, 2, 3, w2, w1, t)\n",
        "    else:\n",
        "        w = w1/(2*pi)\n",
        "    return w\n",
        "\n",
        "def wq1_t(t, args=None):\n",
        "    \"\"\"\n",
        "    Function defines the time depended co-efficent of the qubit 1\n",
        "    w_q1(t) is a pulse wave going from 0 to height (w_f-w_q1) at T0_1 \n",
        "    \"\"\"\n",
        "    return rampPulseGen(t_pulse, w_q1, w_top, t)\n",
        "\n",
        "def wf_t(t, args=None):\n",
        "    \"\"\"\n",
        "    Function defines the time depended co-efficent of the filters\n",
        "    (Although, there is no frequency change of the filters with time)\n",
        "    so w_f(t) = constant\n",
        "    \"\"\"\n",
        "    return w_f/(2*pi)\n",
        "\n",
        "\n",
        "def wq2_t(t, args=None):\n",
        "    \"\"\"\n",
        "    Function defines the time depended co-efficent of qubit 2\n",
        "    (Although, there is no frequency change of the quibit 2 with time)\n",
        "    so w_q2(t) = constant\n",
        "    \"\"\"\n",
        "    return w_q2/(2*pi)"
      ],
      "outputs": [],
      "execution_count": 113,
      "metadata": {
        "collapsed": false,
        "outputHidden": false,
        "inputHidden": false
      }
    },
    {
      "cell_type": "markdown",
      "source": [
        "## Demonstrating the ramp pulse"
      ],
      "metadata": {}
    },
    {
      "cell_type": "code",
      "source": [
        "fig, ax = plt.subplots(1, 1, figsize=(7,5))\n",
        "\n",
        "t_pulse1 = [t_pulse[0], t_pulse[1]+5, t_pulse[2]-5, t_pulse[3]]\n",
        "t_pulse2 = [t_pulse[0], (t_pulse[3]-t_pulse[0])/2+t_pulse[0], (t_pulse[3]-t_pulse[0])/2+t_pulse[0], t_pulse[3]]\n",
        "        \n",
        "ax.plot(times, [rampPulseGen(t_pulse, w_q1, w_top, t) for t in times], 'g', label=r\"$\\Delta$t = 20 ns\")\n",
        "ax.plot(times, [rampPulseGen(t_pulse1, w_q1, w_top, t) for t in times], '#03fcba', label=r\"$\\Delta$t = 15 ns\")\n",
        "ax.plot(times, [rampPulseGen(t_pulse2, w_q1, w_top, t) for t in times], '#c4f2f1', label=r\"$\\Delta$t = 0 ns\")\n",
        "\n",
        "ax.axvline(x=t_pulse[0], color='r', linestyle='--')\n",
        "ax.axvline(x=t_pulse[3], color='r', linestyle='--')\n",
        "ax.axvline(x=t_pulse2[2], color='#f2d4c4', linestyle='--')\n",
        "\n",
        "ax.set_xlabel('Time (ns)')\n",
        "ax.set_ylabel('Frequency (Hz)')\n",
        "ax.legend(loc=\"upper right\")\n",
        "fig.tight_layout()"
      ],
      "outputs": [
        {
          "output_type": "display_data",
          "data": {
            "text/plain": [
              "<Figure size 504x360 with 1 Axes>"
            ],
            "image/png": "[encoded data removed]"
          },
          "metadata": {
            "needs_background": "light"
          }
        }
      ],
      "execution_count": 114,
      "metadata": {
        "collapsed": false,
        "outputHidden": false,
        "inputHidden": false
      }
    },
    {
      "cell_type": "code",
      "source": [
        "opts = Odeoptions(max_step=0.0005, nsteps=50000)\n",
        "\n",
        "# time dependent Hamiltonian\n",
        "H_t = [H0 , [Hq1, wq1_t]]\n",
        "\n",
        "# Evolving the system\n",
        "res = mesolve(H_t, psi0, times, [], [], options=opts)"
      ],
      "outputs": [],
      "execution_count": 115,
      "metadata": {
        "collapsed": false,
        "outputHidden": false,
        "inputHidden": false
      }
    },
    {
      "cell_type": "markdown",
      "source": [
        "### 4.2 Plotting the results (with + without thermal losses)"
      ],
      "metadata": {}
    },
    {
      "cell_type": "code",
      "source": [
        "fig, axes = plt.subplots(2, 1, sharex=True, figsize=(12,7))\n",
        "\n",
        "axes[0].plot(times, np.array(list(map(wf_t, times))), 'r-', linewidth=2, label=\"cavities\")\n",
        "axes[0].plot(times, np.array(list(map(wq1_t, times))), 'b', linewidth=2, label=\"qubit 1\")\n",
        "axes[0].plot(times, np.array(list(map(wq2_t, times))), '#b0ed3e', linewidth=2, label=\"qubit 2\")\n",
        "axes[0].set_ylabel(\"Frequency (GHz)\", fontsize=16)\n",
        "axes[0].legend(loc = 'center left', bbox_to_anchor = (1.0, 0.5))\n",
        "\n",
        "#axes[1].plot(times, np.real(expect(numOp(a1)+numOp(a2)+numOp(a3)+n1+n2, res.states)), 'k--', linewidth=1.5, label=\"Total Probability\")\n",
        "axes[1].plot(times, np.real(expect(numOp(a1), res.states)), 'r--', linewidth=1.5, label=\"cavity 1\")\n",
        "axes[1].plot(times, np.real(expect(numOp(a2), res.states)), 'r:', linewidth=1.5, label=\"cavity 2\")\n",
        "axes[1].plot(times, np.real(expect(numOp(a3), res.states)), 'r', linewidth=1, label=\"cavity 3\")\n",
        "axes[1].plot(times, np.real(expect(n1, res.states)), 'b', linewidth=0.9, label=\"qubit 1\")\n",
        "axes[1].plot(times, np.real(expect(n2, res.states)), '#b0ed3e', linewidth=1.8, label=\"qubit 2\")\n",
        "axes[1].set_xlabel(\"Time (ns)\")\n",
        "axes[1].set_ylabel(\"Occupation \\n probability\")\n",
        "axes[1].legend(loc = 'center left', bbox_to_anchor = (1.0, 0.5))\n",
        "\n",
        "\n",
        "fig.tight_layout()"
      ],
      "outputs": [
        {
          "output_type": "display_data",
          "data": {
            "text/plain": [
              "<Figure size 864x504 with 2 Axes>"
            ],
            "image/png": "[encoded data removed]"
          },
          "metadata": {
            "needs_background": "light"
          }
        }
      ],
      "execution_count": 116,
      "metadata": {
        "collapsed": false,
        "outputHidden": false,
        "inputHidden": false
      }
    },
    {
      "cell_type": "code",
      "source": [
        "def showProgress(idx, n):\n",
        "    \"\"\"\n",
        "    Function prints the progress bar for a running function\n",
        "    @param idx :: iterating index\n",
        "    @param n :: total number of iterating variables/ total length\n",
        "    \"\"\"\n",
        "    j = (idx+1)/n\n",
        "    sys.stdout.write('\\r')\n",
        "    sys.stdout.write(\"[%-20s] %d%%\" % ('='*int(20*j), 100*j))\n",
        "    sys.stdout.flush()\n",
        "    sleep(0.25)\n",
        "    \n",
        "def evaluateHam(ramp_vals, no_loss, t_eval, no_ramps):\n",
        "    \"\"\"\n",
        "    Function evaluates the Hamiltonian for a range of different ramp pulses\n",
        "    Input:\n",
        "        @param ramp_vals :: np array containing the width of the ramp pulse (t2-t1)\n",
        "        @param no_loss :: (bool) if including thermal losses -> False (else, True)\n",
        "        @param t_eval :: (int) index of the time array where the pulse ends\n",
        "        @param no_ramps :: number of ramps sent into the Hamiltonian\n",
        "    Return:\n",
        "        @param ramp_dt_array:: np array containing the exp. vals for each input pulse at t_eval\n",
        "    \"\"\"\n",
        "    exp_vals = []\n",
        "    ramp_dt_array = []\n",
        "    for i in range(no_ramps):\n",
        "        t_pulse = ramp_vals[i][:]        \n",
        "        \n",
        "        # time dependent Hamiltonian\n",
        "        H_t = [H0, [Hq1, wq1_t]]\n",
        "\n",
        "        # Evolving the system with/without thermal losses\n",
        "        if no_loss == True:         \n",
        "            output = mesolve(H_t, psi0, times, [], [])\n",
        "        else:\n",
        "            output = mesolve(H_t, psi0, times, c_ops, [])\n",
        "    \n",
        "        exp_vals = np.real(expect(n1, output.states))\n",
        "        ramp_dt_array.append(exp_vals[t_eval])\n",
        "        \n",
        "        # progress bar\n",
        "        showProgress(i, no_ramps)\n",
        "    return ramp_dt_array\n",
        "\n",
        "def findIndex(times, lower_lmt, upper_lmt):\n",
        "    \"\"\"\n",
        "    Function finds the time at which the pulse ends\n",
        "    @param times:: np array containing all the times\n",
        "    @param lower_lmt :: lower limit of the range in which the pulse ends\n",
        "    @param upper_lmt :: upper limit of the range in which the pulse ends\n",
        "    Returns:\n",
        "    @param idx[0] :: index value of the time closest to where the pulse ends\n",
        "    \"\"\"\n",
        "    idx = []\n",
        "    for j, t in enumerate(times):\n",
        "        if t>=lower_lmt and t<=upper_lmt:\n",
        "            idx.append(j)    \n",
        "            return idx[0]"
      ],
      "outputs": [],
      "execution_count": 91,
      "metadata": {
        "collapsed": false,
        "outputHidden": false,
        "inputHidden": false
      }
    },
    {
      "cell_type": "code",
      "source": [
        "# find the index of the last point of the ramp\n",
        "i = findIndex(times, t_pulse[3], t_pulse[3]+1)\n",
        "\n",
        "# generating a range of pulse with varying ramp times\n",
        "rampList = np.linspace((t_pulse[3]-t_pulse[0])/2-t_pulse[1], t_pulse[0], no_ramps)\n",
        "\n",
        "# generates the expectation va\n",
        "ramp_vals = np.empty((0, 4))\n",
        "for dt in rampList:\n",
        "    t_new = [t_pulse[0], t_pulse[1]+dt, t_pulse[2]-dt, t_pulse[3]]\n",
        "    ramp_vals = np.append(ramp_vals, [t_new], axis=0)    \n",
        "\n",
        "# evaluated at the end point of the pulse, without thermal losses\n",
        "ramp_dt_array = evaluateHam(ramp_vals, True, i, no_ramps)\n",
        "\n",
        "# evaluated at the end point of the pulse, with thermal losses\n",
        "ramp_dt_array2 = evaluateHam(ramp_vals, False, i, no_ramps)"
      ],
      "outputs": [
        {
          "output_type": "stream",
          "name": "stdout",
          "text": [
            "[====================] 100%"
          ]
        }
      ],
      "execution_count": 92,
      "metadata": {
        "collapsed": false,
        "outputHidden": false,
        "inputHidden": false
      }
    },
    {
      "cell_type": "markdown",
      "source": [
        "## 5. Results"
      ],
      "metadata": {}
    },
    {
      "cell_type": "code",
      "source": [
        "fig, ax = plt.subplots(1, 1, figsize=(7,5))\n",
        "       \n",
        "ax.plot(rampList, ramp_dt_array, 'g', label=\"without thermal losses\")\n",
        "ax.plot(rampList, ramp_dt_array2, 'r', label=\"with thermal losses\")\n",
        "ax.set_xlabel('Ramp Time (ns)')\n",
        "ax.set_ylabel('Occupation Probablities')\n",
        "ax.legend(loc=\"upper right\")\n",
        "fig.tight_layout()"
      ],
      "outputs": [
        {
          "output_type": "display_data",
          "data": {
            "text/plain": [
              "<Figure size 504x360 with 1 Axes>"
            ],
            "image/png": "[encoded data removed]"
          },
          "metadata": {
            "needs_background": "light"
          }
        }
      ],
      "execution_count": 93,
      "metadata": {
        "collapsed": false,
        "outputHidden": false,
        "inputHidden": false
      }
    },
    {
      "cell_type": "code",
      "source": [
        "# extract the final state from the result of the simulation\n",
        "rho_final = res.states[-1]\n",
        "\n",
        "# trace out the resonator mode and print the two-qubit density matrix\n",
        "rho_qubits = ptrace(rho_final, [1,2])\n",
        "rho_qubits"
      ],
      "outputs": [
        {
          "output_type": "execute_result",
          "execution_count": 94,
          "data": {
            "text/plain": [
              "Quantum object: dims = [[2, 2], [2, 2]], shape = (4, 4), type = oper, isherm = True\n",
              "Qobj data =\n",
              "[[9.99995376e-01+0.00000000e+00j 0.00000000e+00+0.00000000e+00j\n",
              "  0.00000000e+00+0.00000000e+00j 0.00000000e+00+0.00000000e+00j]\n",
              " [0.00000000e+00+0.00000000e+00j 2.74725132e-06+0.00000000e+00j\n",
              "  8.36021276e-08+2.26888552e-06j 0.00000000e+00+0.00000000e+00j]\n",
              " [0.00000000e+00+0.00000000e+00j 8.36021276e-08-2.26888552e-06j\n",
              "  1.87635940e-06+0.00000000e+00j 0.00000000e+00+0.00000000e+00j]\n",
              " [0.00000000e+00+0.00000000e+00j 0.00000000e+00+0.00000000e+00j\n",
              "  0.00000000e+00+0.00000000e+00j 0.00000000e+00+0.00000000e+00j]]"
            ],
            "text/latex": [
              "Quantum object: dims = [[2, 2], [2, 2]], shape = (4, 4), type = oper, isherm = True\\begin{equation*}\\left(\\begin{array}{*{11}c}1.000 & 0.0 & 0.0 & 0.0\\\\0.0 & 2.747\\times10^{-06} & (8.360\\times10^{-08}+2.269\\times10^{-06}j) & 0.0\\\\0.0 & (8.360\\times10^{-08}-2.269\\times10^{-06}j) & 1.876\\times10^{-06} & 0.0\\\\0.0 & 0.0 & 0.0 & 0.0\\\\\\end{array}\\right)\\end{equation*}"
            ]
          },
          "metadata": {}
        }
      ],
      "execution_count": 94,
      "metadata": {
        "collapsed": false,
        "outputHidden": false,
        "inputHidden": false
      }
    },
    {
      "cell_type": "code",
      "source": [
        "# compare to the ideal result of the sqrtiswap gate (plus phase correction) for the current initial state\n",
        "rho_qubits_ideal = ket2dm(tensor(phasegate(0), phasegate(-pi/2)) * sqrtiswap() * tensor(basis(2,1), basis(2,0)))\n",
        "rho_qubits_ideal"
      ],
      "outputs": [
        {
          "output_type": "execute_result",
          "execution_count": 95,
          "data": {
            "text/plain": [
              "Quantum object: dims = [[2, 2], [2, 2]], shape = (4, 4), type = oper, isherm = True\n",
              "Qobj data =\n",
              "[[0.  0.  0.  0. ]\n",
              " [0.  0.5 0.5 0. ]\n",
              " [0.  0.5 0.5 0. ]\n",
              " [0.  0.  0.  0. ]]"
            ],
            "text/latex": [
              "Quantum object: dims = [[2, 2], [2, 2]], shape = (4, 4), type = oper, isherm = True\\begin{equation*}\\left(\\begin{array}{*{11}c}0.0 & 0.0 & 0.0 & 0.0\\\\0.0 & 0.500 & 0.500 & 0.0\\\\0.0 & 0.500 & 0.500 & 0.0\\\\0.0 & 0.0 & 0.0 & 0.0\\\\\\end{array}\\right)\\end{equation*}"
            ]
          },
          "metadata": {}
        }
      ],
      "execution_count": 95,
      "metadata": {
        "collapsed": false,
        "outputHidden": false,
        "inputHidden": false
      }
    },
    {
      "cell_type": "markdown",
      "source": [
        "### 5.2 Fidelity and Concurrence"
      ],
      "metadata": {}
    },
    {
      "cell_type": "code",
      "source": [
        "fidelity(rho_qubits, rho_qubits_ideal)"
      ],
      "outputs": [
        {
          "output_type": "execute_result",
          "execution_count": 96,
          "data": {
            "text/plain": [
              "0.0015477104112999972"
            ]
          },
          "metadata": {}
        }
      ],
      "execution_count": 96,
      "metadata": {
        "collapsed": false,
        "outputHidden": false,
        "inputHidden": false
      }
    },
    {
      "cell_type": "code",
      "source": [
        "concurrence(rho_qubits)"
      ],
      "outputs": [
        {
          "output_type": "execute_result",
          "execution_count": 97,
          "data": {
            "text/plain": [
              "4.456464269326041e-06"
            ]
          },
          "metadata": {}
        }
      ],
      "execution_count": 97,
      "metadata": {
        "collapsed": false,
        "outputHidden": false,
        "inputHidden": false
      }
    }
  ],
  "metadata": {
    "kernel_info": {
      "name": "python3"
    },
    "language_info": {
      "name": "python",
      "version": "3.7.3",
      "mimetype": "text/x-python",
      "codemirror_mode": {
        "name": "ipython",
        "version": 3
      },
      "pygments_lexer": "ipython3",
      "nbconvert_exporter": "python",
      "file_extension": ".py"
    },
    "kernelspec": {
      "name": "python3",
      "language": "python",
      "display_name": "Python 3"
    },
    "nteract": {
      "version": "0.14.5"
    }
  },
  "nbformat": 4,
  "nbformat_minor": 0
}