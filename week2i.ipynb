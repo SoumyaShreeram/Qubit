{
  "cells": [
    {
      "cell_type": "code",
      "source": [
        "%matplotlib inline\n",
        "import matplotlib.pyplot as plt\n",
        "plt.rcParams.update({'font.size': 16})\n",
        "import numpy as np\n",
        "from math import pi\n",
        "from qutip import *"
      ],
      "outputs": [],
      "execution_count": 192,
      "metadata": {
        "collapsed": false,
        "outputHidden": false,
        "inputHidden": false
      }
    },
    {
      "cell_type": "code",
      "source": [
        "w_q1 = 2*pi*6.85;     # Qubit 1 frequency\n",
        "w_q2 = 2*pi*6.0;    # Qubit 2 frequency: generally in the range from 1-9 GHz\n",
        "w_f1 = 2*pi*7.1     # Resonator/ Filter frequency\n",
        "w_f2 = 2*pi*7.24\n",
        "w_f3 = 2*pi*7.37\n",
        "g_f = 2*pi*1.818     # Filter-filter coupling\n",
        "g_f2 = 2*pi*3890000\n",
        "\n",
        "numF = 3             # number of filters\n",
        "N = 2                # number of fock states (??)\n",
        "\n",
        "tlist = np.linspace(0, 25, 101)"
      ],
      "outputs": [],
      "execution_count": 193,
      "metadata": {
        "collapsed": false,
        "outputHidden": false,
        "inputHidden": false
      }
    },
    {
      "cell_type": "code",
      "source": [
        "def Hqubit(sz, w_q):\n",
        "  \"\"\" \n",
        "  Comuptes the qubit hamiltonian\n",
        "  @param sz :: Pauli's z matrix\n",
        "  @param w_q :: qubit frequency\n",
        "  \"\"\"\n",
        "  return 0.5*sz*w_q\n",
        "\n",
        "def numOp(m):\n",
        "  \"\"\"\n",
        "  Computes the number operator \n",
        "  @param loweringMat :: lowering matrix operator for a system\n",
        "  \"\"\"\n",
        "  return m.dag()*m\n",
        "\n",
        "def antiCommut(a2, a1):\n",
        "  \"\"\"\n",
        "  Computes product of a2.dag()*a1, then sums this to (a2.dag()*a1).dag()\n",
        "  @param a1 :: destruction operator 1\n",
        "  @param a2 :: destruction operator 2\n",
        "  \"\"\"\n",
        "  return a2.dag()*a1 + a1.dag()*a2"
      ],
      "outputs": [],
      "execution_count": 194,
      "metadata": {
        "collapsed": false,
        "outputHidden": false,
        "inputHidden": false
      }
    },
    {
      "cell_type": "code",
      "source": [
        "# cavity 1, 2, 3 destruction operators\n",
        "a1 = tensor(destroy(N), qeye(N), qeye(N))\n",
        "a2 = tensor(qeye(N), destroy(N), qeye(N))\n",
        "a3 = tensor(qeye(N), destroy(N), qeye(N))\n",
        "\n",
        "# Filter Hamiltonians (refer formula in the Introduction)\n",
        "H_f1 = tensor(destroy(N),create(N),qeye(N)) + tensor(create(N),destroy(N),qeye(N))\n",
        "H_f2 = tensor(qeye(N),create(N),destroy(N)) + tensor(qeye(N),destroy(N),create(N))\n",
        "Hf = w_f1*(numOp(a1) + numOp(a2) + numOp(a3))+ g_f*(H_f1+H_f2)  "
      ],
      "outputs": [],
      "execution_count": 195,
      "metadata": {
        "collapsed": false,
        "outputHidden": false,
        "inputHidden": false
      }
    },
    {
      "cell_type": "code",
      "source": [
        "def compute(w_qList, Hf, N):\n",
        "  \"\"\"\n",
        "  Computes the Eigen-vales and states for a given qubit frequency\n",
        "  @param w_qList :: range of qubit frequencies\n",
        "  @param H_q1 :: Qubit 1 independent Hamiltonian \n",
        "  @param N :: Number of Fock states\n",
        "  @param sz1 :: z matrix for qubit 1\n",
        "  \"\"\"\n",
        "  evals_mat = np.zeros((len(w_qList), 8))\n",
        "  for i, w_qi in enumerate(w_qList):\n",
        "    H = Hf \n",
        "    evals, evecs = H.eigenstates()\n",
        "    print(H.eigenenergies())\n",
        "    evals_mat[i,:] = evals\n",
        "  return evals_mat"
      ],
      "outputs": [],
      "execution_count": 196,
      "metadata": {
        "collapsed": false,
        "outputHidden": false,
        "inputHidden": false
      }
    },
    {
      "cell_type": "code",
      "source": [
        "H = Hf \n",
        "print(H.eigenenergies())\n",
        "Hf"
      ],
      "outputs": [
        {
          "output_type": "stream",
          "name": "stdout",
          "text": [
            "[ -1.48484174   0.          40.53221239  42.01705413  91.81479291\n",
            "  93.29963465 133.83184704 135.31668879]\n"
          ]
        },
        {
          "output_type": "execute_result",
          "execution_count": 197,
          "data": {
            "text/plain": [
              "Quantum object: dims = [[2, 2, 2], [2, 2, 2]], shape = (8, 8), type = oper, isherm = True\n",
              "Qobj data =\n",
              "[[  0.           0.           0.           0.           0.\n",
              "    0.           0.           0.        ]\n",
              " [  0.           0.          11.42283089   0.           0.\n",
              "    0.           0.           0.        ]\n",
              " [  0.          11.42283089  89.22123136   0.          11.42283089\n",
              "    0.           0.           0.        ]\n",
              " [  0.           0.           0.          89.22123136   0.\n",
              "   11.42283089   0.           0.        ]\n",
              " [  0.           0.          11.42283089   0.          44.61061568\n",
              "    0.           0.           0.        ]\n",
              " [  0.           0.           0.          11.42283089   0.\n",
              "   44.61061568  11.42283089   0.        ]\n",
              " [  0.           0.           0.           0.           0.\n",
              "   11.42283089 133.83184704   0.        ]\n",
              " [  0.           0.           0.           0.           0.\n",
              "    0.           0.         133.83184704]]"
            ],
            "text/latex": [
              "Quantum object: dims = [[2, 2, 2], [2, 2, 2]], shape = (8, 8), type = oper, isherm = True\\begin{equation*}\\left(\\begin{array}{*{11}c}0.0 & 0.0 & 0.0 & 0.0 & 0.0 & 0.0 & 0.0 & 0.0\\\\0.0 & 0.0 & 11.423 & 0.0 & 0.0 & 0.0 & 0.0 & 0.0\\\\0.0 & 11.423 & 89.221 & 0.0 & 11.423 & 0.0 & 0.0 & 0.0\\\\0.0 & 0.0 & 0.0 & 89.221 & 0.0 & 11.423 & 0.0 & 0.0\\\\0.0 & 0.0 & 11.423 & 0.0 & 44.611 & 0.0 & 0.0 & 0.0\\\\0.0 & 0.0 & 0.0 & 11.423 & 0.0 & 44.611 & 11.423 & 0.0\\\\0.0 & 0.0 & 0.0 & 0.0 & 0.0 & 11.423 & 133.832 & 0.0\\\\0.0 & 0.0 & 0.0 & 0.0 & 0.0 & 0.0 & 0.0 & 133.832\\\\\\end{array}\\right)\\end{equation*}"
            ]
          },
          "metadata": {}
        }
      ],
      "execution_count": 197,
      "metadata": {
        "collapsed": false,
        "outputHidden": false,
        "inputHidden": false
      }
    },
    {
      "cell_type": "code",
      "source": [
        "# range of qubit 1 frequencies\n",
        "w_q1List = np.linspace(0.1,7.2,100)*2*pi\n",
        "\n",
        "evals_mat = compute(w_q1List, Hf, N)\n",
        "\n",
        "y1 = evals_mat[:, 1] - evals_mat[:, 0]\n"
      ],
      "outputs": [
        {
          "output_type": "stream",
          "name": "stdout",
          "text": [
            "[ -1.48484174   0.          40.53221239  42.01705413  91.81479291\n",
            "  93.29963465 133.83184704 135.31668879]\n",
            "[ -1.48484174   0.          40.53221239  42.01705413  91.81479291\n",
            "  93.29963465 133.83184704 135.31668879]\n",
            "[ -1.48484174   0.          40.53221239  42.01705413  91.81479291\n",
            "  93.29963465 133.83184704 135.31668879]\n",
            "[ -1.48484174   0.          40.53221239  42.01705413  91.81479291\n",
            "  93.29963465 133.83184704 135.31668879]\n",
            "[ -1.48484174   0.          40.53221239  42.01705413  91.81479291\n",
            "  93.29963465 133.83184704 135.31668879]\n",
            "[ -1.48484174   0.          40.53221239  42.01705413  91.81479291\n",
            "  93.29963465 133.83184704 135.31668879]\n",
            "[ -1.48484174   0.          40.53221239  42.01705413  91.81479291\n",
            "  93.29963465 133.83184704 135.31668879]\n",
            "[ -1.48484174   0.          40.53221239  42.01705413  91.81479291\n",
            "  93.29963465 133.83184704 135.31668879]\n",
            "[ -1.48484174   0.          40.53221239  42.01705413  91.81479291\n",
            "  93.29963465 133.83184704 135.31668879]\n",
            "[ -1.48484174   0.          40.53221239  42.01705413  91.81479291\n",
            "  93.29963465 133.83184704 135.31668879]\n",
            "[ -1.48484174   0.          40.53221239  42.01705413  91.81479291\n",
            "  93.29963465 133.83184704 135.31668879]\n",
            "[ -1.48484174   0.          40.53221239  42.01705413  91.81479291\n",
            "  93.29963465 133.83184704 135.31668879]\n",
            "[ -1.48484174   0.          40.53221239  42.01705413  91.81479291\n",
            "  93.29963465 133.83184704 135.31668879]\n",
            "[ -1.48484174   0.          40.53221239  42.01705413  91.81479291\n",
            "  93.29963465 133.83184704 135.31668879]\n",
            "[ -1.48484174   0.          40.53221239  42.01705413  91.81479291\n",
            "  93.29963465 133.83184704 135.31668879]\n",
            "[ -1.48484174   0.          40.53221239  42.01705413  91.81479291\n",
            "  93.29963465 133.83184704 135.31668879]\n",
            "[ -1.48484174   0.          40.53221239  42.01705413  91.81479291\n",
            "  93.29963465 133.83184704 135.31668879]\n",
            "[ -1.48484174   0.          40.53221239  42.01705413  91.81479291\n",
            "  93.29963465 133.83184704 135.31668879]\n",
            "[ -1.48484174   0.          40.53221239  42.01705413  91.81479291\n",
            "  93.29963465 133.83184704 135.31668879]\n",
            "[ -1.48484174   0.          40.53221239  42.01705413  91.81479291\n",
            "  93.29963465 133.83184704 135.31668879]\n",
            "[ -1.48484174   0.          40.53221239  42.01705413  91.81479291\n",
            "  93.29963465 133.83184704 135.31668879]\n",
            "[ -1.48484174   0.          40.53221239  42.01705413  91.81479291\n",
            "  93.29963465 133.83184704 135.31668879]\n",
            "[ -1.48484174   0.          40.53221239  42.01705413  91.81479291\n",
            "  93.29963465 133.83184704 135.31668879]\n",
            "[ -1.48484174   0.          40.53221239  42.01705413  91.81479291\n",
            "  93.29963465 133.83184704 135.31668879]\n",
            "[ -1.48484174   0.          40.53221239  42.01705413  91.81479291\n",
            "  93.29963465 133.83184704 135.31668879]\n",
            "[ -1.48484174   0.          40.53221239  42.01705413  91.81479291\n",
            "  93.29963465 133.83184704 135.31668879]\n",
            "[ -1.48484174   0.          40.53221239  42.01705413  91.81479291\n",
            "  93.29963465 133.83184704 135.31668879]\n",
            "[ -1.48484174   0.          40.53221239  42.01705413  91.81479291\n",
            "  93.29963465 133.83184704 135.31668879]\n",
            "[ -1.48484174   0.          40.53221239  42.01705413  91.81479291\n",
            "  93.29963465 133.83184704 135.31668879]\n",
            "[ -1.48484174   0.          40.53221239  42.01705413  91.81479291\n",
            "  93.29963465 133.83184704 135.31668879]\n",
            "[ -1.48484174   0.          40.53221239  42.01705413  91.81479291\n",
            "  93.29963465 133.83184704 135.31668879]\n",
            "[ -1.48484174   0.          40.53221239  42.01705413  91.81479291\n",
            "  93.29963465 133.83184704 135.31668879]\n",
            "[ -1.48484174   0.          40.53221239  42.01705413  91.81479291\n",
            "  93.29963465 133.83184704 135.31668879]\n",
            "[ -1.48484174   0.          40.53221239  42.01705413  91.81479291\n",
            "  93.29963465 133.83184704 135.31668879]\n",
            "[ -1.48484174   0.          40.53221239  42.01705413  91.81479291\n",
            "  93.29963465 133.83184704 135.31668879]\n",
            "[ -1.48484174   0.          40.53221239  42.01705413  91.81479291\n",
            "  93.29963465 133.83184704 135.31668879]\n",
            "[ -1.48484174   0.          40.53221239  42.01705413  91.81479291\n",
            "  93.29963465 133.83184704 135.31668879]\n",
            "[ -1.48484174   0.          40.53221239  42.01705413  91.81479291\n",
            "  93.29963465 133.83184704 135.31668879]\n",
            "[ -1.48484174   0.          40.53221239  42.01705413  91.81479291\n",
            "  93.29963465 133.83184704 135.31668879]\n",
            "[ -1.48484174   0.          40.53221239  42.01705413  91.81479291\n",
            "  93.29963465 133.83184704 135.31668879]\n",
            "[ -1.48484174   0.          40.53221239  42.01705413  91.81479291\n",
            "  93.29963465 133.83184704 135.31668879]\n",
            "[ -1.48484174   0.          40.53221239  42.01705413  91.81479291\n",
            "  93.29963465 133.83184704 135.31668879]\n",
            "[ -1.48484174   0.          40.53221239  42.01705413  91.81479291\n",
            "  93.29963465 133.83184704 135.31668879]\n",
            "[ -1.48484174   0.          40.53221239  42.01705413  91.81479291\n",
            "  93.29963465 133.83184704 135.31668879]\n",
            "[ -1.48484174   0.          40.53221239  42.01705413  91.81479291\n",
            "  93.29963465 133.83184704 135.31668879]\n",
            "[ -1.48484174   0.          40.53221239  42.01705413  91.81479291\n",
            "  93.29963465 133.83184704 135.31668879]\n",
            "[ -1.48484174   0.          40.53221239  42.01705413  91.81479291\n",
            "  93.29963465 133.83184704 135.31668879]\n",
            "[ -1.48484174   0.          40.53221239  42.01705413  91.81479291\n",
            "  93.29963465 133.83184704 135.31668879]\n",
            "[ -1.48484174   0.          40.53221239  42.01705413  91.81479291\n",
            "  93.29963465 133.83184704 135.31668879]\n",
            "[ -1.48484174   0.          40.53221239  42.01705413  91.81479291\n",
            "  93.29963465 133.83184704 135.31668879]\n",
            "[ -1.48484174   0.          40.53221239  42.01705413  91.81479291\n",
            "  93.29963465 133.83184704 135.31668879]\n",
            "[ -1.48484174   0.          40.53221239  42.01705413  91.81479291\n",
            "  93.29963465 133.83184704 135.31668879]\n",
            "[ -1.48484174   0.          40.53221239  42.01705413  91.81479291\n",
            "  93.29963465 133.83184704 135.31668879]\n",
            "[ -1.48484174   0.          40.53221239  42.01705413  91.81479291\n",
            "  93.29963465 133.83184704 135.31668879]\n",
            "[ -1.48484174   0.          40.53221239  42.01705413  91.81479291\n",
            "  93.29963465 133.83184704 135.31668879]\n",
            "[ -1.48484174   0.          40.53221239  42.01705413  91.81479291\n",
            "  93.29963465 133.83184704 135.31668879]\n",
            "[ -1.48484174   0.          40.53221239  42.01705413  91.81479291\n",
            "  93.29963465 133.83184704 135.31668879]\n",
            "[ -1.48484174   0.          40.53221239  42.01705413  91.81479291\n",
            "  93.29963465 133.83184704 135.31668879]\n",
            "[ -1.48484174   0.          40.53221239  42.01705413  91.81479291\n",
            "  93.29963465 133.83184704 135.31668879]\n",
            "[ -1.48484174   0.          40.53221239  42.01705413  91.81479291\n",
            "  93.29963465 133.83184704 135.31668879]\n",
            "[ -1.48484174   0.          40.53221239  42.01705413  91.81479291\n",
            "  93.29963465 133.83184704 135.31668879]\n",
            "[ -1.48484174   0.          40.53221239  42.01705413  91.81479291\n",
            "  93.29963465 133.83184704 135.31668879]\n",
            "[ -1.48484174   0.          40.53221239  42.01705413  91.81479291\n",
            "  93.29963465 133.83184704 135.31668879]\n",
            "[ -1.48484174   0.          40.53221239  42.01705413  91.81479291\n",
            "  93.29963465 133.83184704 135.31668879]\n",
            "[ -1.48484174   0.          40.53221239  42.01705413  91.81479291\n",
            "  93.29963465 133.83184704 135.31668879]\n",
            "[ -1.48484174   0.          40.53221239  42.01705413  91.81479291\n",
            "  93.29963465 133.83184704 135.31668879]\n",
            "[ -1.48484174   0.          40.53221239  42.01705413  91.81479291\n",
            "  93.29963465 133.83184704 135.31668879]\n",
            "[ -1.48484174   0.          40.53221239  42.01705413  91.81479291\n",
            "  93.29963465 133.83184704 135.31668879]\n",
            "[ -1.48484174   0.          40.53221239  42.01705413  91.81479291\n",
            "  93.29963465 133.83184704 135.31668879]\n",
            "[ -1.48484174   0.          40.53221239  42.01705413  91.81479291\n",
            "  93.29963465 133.83184704 135.31668879]\n",
            "[ -1.48484174   0.          40.53221239  42.01705413  91.81479291\n",
            "  93.29963465 133.83184704 135.31668879]\n",
            "[ -1.48484174   0.          40.53221239  42.01705413  91.81479291\n",
            "  93.29963465 133.83184704 135.31668879]\n",
            "[ -1.48484174   0.          40.53221239  42.01705413  91.81479291\n",
            "  93.29963465 133.83184704 135.31668879]\n",
            "[ -1.48484174   0.          40.53221239  42.01705413  91.81479291\n",
            "  93.29963465 133.83184704 135.31668879]\n",
            "[ -1.48484174   0.          40.53221239  42.01705413  91.81479291\n",
            "  93.29963465 133.83184704 135.31668879]\n",
            "[ -1.48484174   0.          40.53221239  42.01705413  91.81479291\n",
            "  93.29963465 133.83184704 135.31668879]\n",
            "[ -1.48484174   0.          40.53221239  42.01705413  91.81479291\n",
            "  93.29963465 133.83184704 135.31668879]\n",
            "[ -1.48484174   0.          40.53221239  42.01705413  91.81479291\n",
            "  93.29963465 133.83184704 135.31668879]\n",
            "[ -1.48484174   0.          40.53221239  42.01705413  91.81479291\n",
            "  93.29963465 133.83184704 135.31668879]\n",
            "[ -1.48484174   0.          40.53221239  42.01705413  91.81479291\n",
            "  93.29963465 133.83184704 135.31668879]\n",
            "[ -1.48484174   0.          40.53221239  42.01705413  91.81479291\n",
            "  93.29963465 133.83184704 135.31668879]\n",
            "[ -1.48484174   0.          40.53221239  42.01705413  91.81479291\n",
            "  93.29963465 133.83184704 135.31668879]\n",
            "[ -1.48484174   0.          40.53221239  42.01705413  91.81479291\n",
            "  93.29963465 133.83184704 135.31668879]\n",
            "[ -1.48484174   0.          40.53221239  42.01705413  91.81479291\n",
            "  93.29963465 133.83184704 135.31668879]\n",
            "[ -1.48484174   0.          40.53221239  42.01705413  91.81479291\n",
            "  93.29963465 133.83184704 135.31668879]\n",
            "[ -1.48484174   0.          40.53221239  42.01705413  91.81479291\n",
            "  93.29963465 133.83184704 135.31668879]\n",
            "[ -1.48484174   0.          40.53221239  42.01705413  91.81479291\n",
            "  93.29963465 133.83184704 135.31668879]\n",
            "[ -1.48484174   0.          40.53221239  42.01705413  91.81479291\n",
            "  93.29963465 133.83184704 135.31668879]\n",
            "[ -1.48484174   0.          40.53221239  42.01705413  91.81479291\n",
            "  93.29963465 133.83184704 135.31668879]\n",
            "[ -1.48484174   0.          40.53221239  42.01705413  91.81479291\n",
            "  93.29963465 133.83184704 135.31668879]\n",
            "[ -1.48484174   0.          40.53221239  42.01705413  91.81479291\n",
            "  93.29963465 133.83184704 135.31668879]\n",
            "[ -1.48484174   0.          40.53221239  42.01705413  91.81479291\n",
            "  93.29963465 133.83184704 135.31668879]\n",
            "[ -1.48484174   0.          40.53221239  42.01705413  91.81479291\n",
            "  93.29963465 133.83184704 135.31668879]\n",
            "[ -1.48484174   0.          40.53221239  42.01705413  91.81479291\n",
            "  93.29963465 133.83184704 135.31668879]\n",
            "[ -1.48484174   0.          40.53221239  42.01705413  91.81479291\n",
            "  93.29963465 133.83184704 135.31668879]\n",
            "[ -1.48484174   0.          40.53221239  42.01705413  91.81479291\n",
            "  93.29963465 133.83184704 135.31668879]\n",
            "[ -1.48484174   0.          40.53221239  42.01705413  91.81479291\n",
            "  93.29963465 133.83184704 135.31668879]\n",
            "[ -1.48484174   0.          40.53221239  42.01705413  91.81479291\n",
            "  93.29963465 133.83184704 135.31668879]\n",
            "[ -1.48484174   0.          40.53221239  42.01705413  91.81479291\n",
            "  93.29963465 133.83184704 135.31668879]\n",
            "[ -1.48484174   0.          40.53221239  42.01705413  91.81479291\n",
            "  93.29963465 133.83184704 135.31668879]\n"
          ]
        }
      ],
      "execution_count": 198,
      "metadata": {
        "collapsed": false,
        "outputHidden": false,
        "inputHidden": false
      }
    },
    {
      "cell_type": "code",
      "source": [
        "fig,ax = plt.subplots(figsize=(8,5))\n",
        "\n",
        "for n in range(0,8):\n",
        "  ax.plot(w_q1List / (2 * pi), (evals_mat[:, n] - evals_mat[:, 0])/ (2 * pi), lw=2)\n",
        "ax.set_xlabel('Qubit 1 frequency sweep (GHz)')\n",
        "#ax.set_ylim([6.99,7.001])\n",
        "ax.set_ylabel('Eigenenergies (GHz)')\n",
        "ax.set_title('Energy Spectrum for 3 cavities')"
      ],
      "outputs": [
        {
          "output_type": "execute_result",
          "execution_count": 199,
          "data": {
            "text/plain": [
              "Text(0.5, 1.0, 'Energy Spectrum for 3 cavities')"
            ]
          },
          "metadata": {}
        },
        {
          "output_type": "display_data",
          "data": {
            "text/plain": [
              "<Figure size 576x360 with 1 Axes>"
            ],
            "image/png": "[encoded data removed]"
          },
          "metadata": {
            "needs_background": "light"
          }
        }
      ],
      "execution_count": 199,
      "metadata": {
        "collapsed": false,
        "outputHidden": false,
        "inputHidden": false
      }
    },
    {
      "cell_type": "code",
      "source": [],
      "outputs": [],
      "execution_count": 200,
      "metadata": {
        "collapsed": false,
        "outputHidden": false,
        "inputHidden": false
      }
    },
    {
      "cell_type": "code",
      "source": [],
      "outputs": [],
      "execution_count": 200,
      "metadata": {
        "collapsed": false,
        "outputHidden": false,
        "inputHidden": false
      }
    }
  ],
  "metadata": {
    "kernel_info": {
      "name": "python3"
    },
    "language_info": {
      "name": "python",
      "version": "3.7.3",
      "mimetype": "text/x-python",
      "codemirror_mode": {
        "name": "ipython",
        "version": 3
      },
      "pygments_lexer": "ipython3",
      "nbconvert_exporter": "python",
      "file_extension": ".py"
    },
    "kernelspec": {
      "name": "python3",
      "language": "python",
      "display_name": "Python 3"
    },
    "nteract": {
      "version": "0.14.3"
    }
  },
  "nbformat": 4,
  "nbformat_minor": 0
}