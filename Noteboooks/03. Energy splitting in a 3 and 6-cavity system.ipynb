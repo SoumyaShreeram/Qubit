{
  "cells": [
    {
      "cell_type": "markdown",
      "source": [
        "# Spectroscopy of a three 2D cavity system \n",
        "\n",
        "1. **Introduction**\n",
        "2. **Problem parameters**\n",
        "3. **Setting up the operators and the Hamiltonian's**\n",
        "4. **Computing and plotting the eigenfrequencies of the coupled system**\n",
        "\n",
        "<u>Author</u> : Soumya Shreeram (shreeramsoumya@gmail.com)<br>\n",
        "<u>Supervisor</u> : Yu-Chin Chao (ychao@fnal.gov) <br>\n",
        "<u>Date</u>$\\ \\ \\ \\$: July 2019<br>\n",
        "\n",
        "This script was coded as part of the Helen Edwards Summer Internship program at Fermilab."
      ],
      "metadata": {}
    },
    {
      "cell_type": "markdown",
      "source": [
        "The hamiltonian for such a system with two qubits with frequencies $v_{Q,1}$, $v_{Q,2}$, and $n$ mode filter can be described as,\n",
        "\n",
        "$$ \\hat{H}_{F} = \\sum_{i=1}^{n}h\\ v_{F}\\ \\hat{a}^{\\dagger}_i \\hat{a}_i +  \\sum_{i=2}^{n}h\\ g_{F}\\ (\\hat{a}^{\\dagger}_i \\hat{a}_{i-1} + \\hat{a}^{\\dagger}_{i-1} \\hat{a}_i)$$\n",
        "\n",
        "where $\\hat{a}_i$ creates a photon in the $i^{th}$ resonantor, and $g_F$ is the filter-filter coupling.\n",
        "\n",
        "The code calculates the eigen modes for such a system for a range of frequencies."
      ],
      "metadata": {}
    },
    {
      "cell_type": "code",
      "source": [
        "%matplotlib inline\n",
        "import matplotlib.pyplot as plt\n",
        "plt.rcParams.update({'font.size': 16})\n",
        "import numpy as np\n",
        "from math import pi\n",
        "from qutip import *"
      ],
      "outputs": [],
      "execution_count": 3,
      "metadata": {
        "collapsed": false,
        "outputHidden": false,
        "inputHidden": false
      }
    },
    {
      "cell_type": "markdown",
      "source": [
        "## 2. Problem parameters"
      ],
      "metadata": {}
    },
    {
      "cell_type": "code",
      "source": [
        "\"\"\"------------- FREQUENCIES --------------------\"\"\"\n",
        "w_f = 2*pi*7.1      # Resonator/ Filter frequency\n",
        "\n",
        "\"\"\"------------- COUPLING --------------------\"\"\"\n",
        "g_f1 = 2*pi*0.118    # Filter-filter coupling\n",
        "g_f2 = 2*pi*0.344 \n",
        "\n",
        "numF = 3            # number of filters (CASE 1)\n",
        "numF6 = 6           # number of filters (CASE 2)\n",
        "N = 2               # number of fock states \n",
        "\n",
        "kappa = 1.0/0.129   # cavity dissipation rate\n",
        "n_th_a = 0.063      # avg. no. of thermal bath excitation\n",
        "r1 = 0.0075           # qubit relaxation rate\n",
        "r2 = 0.0025           # qubit dephasing rate\n",
        "\n",
        "times = np.linspace(0,100,800)"
      ],
      "outputs": [],
      "execution_count": 56,
      "metadata": {
        "collapsed": false,
        "outputHidden": false,
        "inputHidden": false
      }
    },
    {
      "cell_type": "markdown",
      "source": [
        "## 3. Setting up the operators and the Hamiltonian's"
      ],
      "metadata": {}
    },
    {
      "cell_type": "code",
      "source": [
        "def numOp(m):\n",
        "  \"\"\"\n",
        "  Computes the number operator \n",
        "  @param loweringMat :: lowering matrix operator for a system\n",
        "  \"\"\"\n",
        "  return m.dag()*m\n",
        "\n",
        "def rwaCoupling(m1, m2):\n",
        "    return m1.dag()*m2 + m1*m2.dag()"
      ],
      "outputs": [],
      "execution_count": 57,
      "metadata": {
        "collapsed": false,
        "outputHidden": false,
        "inputHidden": false
      }
    },
    {
      "cell_type": "code",
      "source": [
        "# cavity 1, 2, 3 destruction operators\n",
        "a1 = tensor(destroy(N), qeye(N), qeye(N))\n",
        "a2 = tensor(qeye(N), destroy(N), qeye(N))\n",
        "a3 = tensor(qeye(N), qeye(N), destroy(N))\n",
        "\n",
        "# Filter Hamiltonians (refer formula in the Introduction)\n",
        "Hf = numOp(a1) + numOp(a2) + numOp(a3)    \n",
        "H_f12 = g_f1*(rwaCoupling(a1, a2) + rwaCoupling(a2, a3))\n",
        " \n",
        "H_3 = w_f*Hf + H_f12 # Resultant Hamiltonian\n",
        "\n",
        "# collapse operators\n",
        "c_ops = []\n",
        "\n",
        "H_3"
      ],
      "outputs": [
        {
          "output_type": "execute_result",
          "execution_count": 127,
          "data": {
            "text/plain": [
              "Quantum object: dims = [[2, 2, 2], [2, 2, 2]], shape = (8, 8), type = oper, isherm = True\n",
              "Qobj data =\n",
              "[[  0.           0.           0.           0.           0.\n",
              "    0.           0.           0.        ]\n",
              " [  0.          44.61061568   0.74141587   0.           0.\n",
              "    0.           0.           0.        ]\n",
              " [  0.           0.74141587  44.61061568   0.           0.74141587\n",
              "    0.           0.           0.        ]\n",
              " [  0.           0.           0.          89.22123136   0.\n",
              "    0.74141587   0.           0.        ]\n",
              " [  0.           0.           0.74141587   0.          44.61061568\n",
              "    0.           0.           0.        ]\n",
              " [  0.           0.           0.           0.74141587   0.\n",
              "   89.22123136   0.74141587   0.        ]\n",
              " [  0.           0.           0.           0.           0.\n",
              "    0.74141587  89.22123136   0.        ]\n",
              " [  0.           0.           0.           0.           0.\n",
              "    0.           0.         133.83184704]]"
            ],
            "text/latex": [
              "Quantum object: dims = [[2, 2, 2], [2, 2, 2]], shape = (8, 8), type = oper, isherm = True\\begin{equation*}\\left(\\begin{array}{*{11}c}0.0 & 0.0 & 0.0 & 0.0 & 0.0 & 0.0 & 0.0 & 0.0\\\\0.0 & 44.611 & 0.741 & 0.0 & 0.0 & 0.0 & 0.0 & 0.0\\\\0.0 & 0.741 & 44.611 & 0.0 & 0.741 & 0.0 & 0.0 & 0.0\\\\0.0 & 0.0 & 0.0 & 89.221 & 0.0 & 0.741 & 0.0 & 0.0\\\\0.0 & 0.0 & 0.741 & 0.0 & 44.611 & 0.0 & 0.0 & 0.0\\\\0.0 & 0.0 & 0.0 & 0.741 & 0.0 & 89.221 & 0.741 & 0.0\\\\0.0 & 0.0 & 0.0 & 0.0 & 0.0 & 0.741 & 89.221 & 0.0\\\\0.0 & 0.0 & 0.0 & 0.0 & 0.0 & 0.0 & 0.0 & 133.832\\\\\\end{array}\\right)\\end{equation*}"
            ]
          },
          "metadata": {}
        }
      ],
      "execution_count": 127,
      "metadata": {
        "collapsed": false,
        "outputHidden": false,
        "inputHidden": false
      }
    },
    {
      "cell_type": "code",
      "source": [
        "def compute(w_qList, H, N, numF):\n",
        "  \"\"\"\n",
        "  Computes the Eigen-vales and states for a given qubit frequency\n",
        "  @param w_qList :: range of qubit frequencies\n",
        "  @param H_q1 :: Qubit 1 independent Hamiltonian \n",
        "  @param N :: Number of Fock states\n",
        "  @param sz1 :: z matrix for qubit 1\n",
        "  \"\"\"\n",
        "  evals_mat = np.zeros((len(w_qList), N**numF))\n",
        "  for i, w_qi in enumerate(w_qList):\n",
        "    evals, evecs = H.eigenstates()\n",
        "    evals_mat[i,:] = evals\n",
        "  return evals_mat\n",
        "\n",
        "def spiltFreq(evals_mat, n1):\n",
        "    wf_splittings = []\n",
        "    for n in n1:\n",
        "        wf_splittings.append((evals_mat[0, n]-evals_mat[0, 0])/(2*pi))\n",
        "        \n",
        "    print(['Split frequency %2d = %.2f'%(i, wf) for i, wf in enumerate(wf_splittings)])    \n",
        "    return \n",
        "\n",
        "def setLabels(ax, numF):\n",
        "    ax.set_xlabel('Qubit 1 frequency sweep (GHz)')\n",
        "    ax.set_ylabel('Eigenenergies (GHz)')\n",
        "    ax.set_title('Energy Spectrum for %.1f cavities'%numF)\n",
        "    return \n",
        "\n",
        "def plotEnergySplitting(n1, w_q1List, evals_mat, numF):\n",
        "    fig,ax = plt.subplots(figsize=(8,5))\n",
        "    \n",
        "    for n in n1:\n",
        "      ax.plot(w_q1List / (2 * pi), (evals_mat[:, n] - evals_mat[:, 0])/ (2 * pi), lw=2)\n",
        "    setLabels(ax, numF)\n",
        "    return  "
      ],
      "outputs": [],
      "execution_count": 120,
      "metadata": {
        "collapsed": false,
        "outputHidden": false,
        "inputHidden": false
      }
    },
    {
      "cell_type": "markdown",
      "source": [
        "## 4. Computing and plotting the eigenfrequencies of the coupled system"
      ],
      "metadata": {}
    },
    {
      "cell_type": "code",
      "source": [
        "# range of qubit 1 frequencies\n",
        "w_q1List = np.linspace(5,7.2,100)*2*pi\n",
        "\n",
        "# computes the eigenvalue matrix for ranger of frequencies\n",
        "evals_mat = compute(w_q1List, H_3, N, numF)\n",
        "\n",
        "# plots the energy splitting due to coupling\n",
        "plotEnergySplitting(n1, w_q1List, evals_mat, numF)"
      ],
      "outputs": [
        {
          "output_type": "display_data",
          "data": {
            "text/plain": [
              "<Figure size 576x360 with 1 Axes>"
            ],
            "image/png": "[encoded data removed]"
          },
          "metadata": {
            "needs_background": "light"
          }
        }
      ],
      "execution_count": 121,
      "metadata": {
        "collapsed": false,
        "outputHidden": false,
        "inputHidden": false
      }
    },
    {
      "cell_type": "code",
      "source": [
        "# shows the split frequencies\n",
        "spiltFreq(evals_mat, n1)"
      ],
      "outputs": [
        {
          "output_type": "stream",
          "name": "stdout",
          "text": [
            "['Split frequency  0 = 6.93', 'Split frequency  1 = 7.10', 'Split frequency  2 = 7.27']\n"
          ]
        },
        {
          "output_type": "execute_result",
          "execution_count": 115,
          "data": {
            "text/plain": [
              "[6.933122799639975, 7.1, 7.266877200360025]"
            ]
          },
          "metadata": {}
        }
      ],
      "execution_count": 115,
      "metadata": {
        "collapsed": false,
        "outputHidden": false,
        "inputHidden": false
      }
    },
    {
      "cell_type": "markdown",
      "source": [
        "## 5. Following the same procedure for a 6 cavity and 2-qubit system\n",
        "\n",
        "### 5.1 Setting up the operators, Hamiltonian, and the initial state $\\psi_0$\n",
        "\n",
        "$$ \\hat{H}_{F} = \\sum_{i=1}^{n}h\\ v_{F}\\ \\hat{a}^{\\dagger}_i \\hat{a}_i +  \\sum_{i=2}^{n}h\\ g_{F}\\ (\\hat{a}^{\\dagger}_i \\hat{a}_{i-1} + \\hat{a}^{\\dagger}_{i-1} \\hat{a}_i)$$"
      ],
      "metadata": {}
    },
    {
      "cell_type": "code",
      "source": [
        "def sumHamiltonians(some_list):\n",
        "    \"\"\"\n",
        "    Function sums the Hamiltonians in the list\n",
        "    @param some_list :: list containing the terms to be summed over\n",
        "    @return H :: Hamiltonian with the required sum\n",
        "    \"\"\"\n",
        "    H = 0\n",
        "    for some in some_list:\n",
        "        H += numOp(some)\n",
        "    return H    \n",
        "\n",
        "def sumCoupling(a_list):\n",
        "    \"\"\"\n",
        "    Function sums the Hamiltonians in the list under the RWA approx\n",
        "    @param a_list :: list containing the terms to be summed over\n",
        "    @return H :: Hamiltonian with the required sum\n",
        "    \"\"\"\n",
        "    H = 0\n",
        "    i = 1\n",
        "    for i in range(len(a_list)):\n",
        "        H = rwaCoupling(a_list[i], a_list[i-1])\n",
        "    return H    "
      ],
      "outputs": [],
      "execution_count": 128,
      "metadata": {
        "collapsed": false,
        "outputHidden": false,
        "inputHidden": false
      }
    },
    {
      "cell_type": "code",
      "source": [
        "# operators\n",
        "a_1 = tensor(destroy(N), qeye(N), qeye(N), qeye(N), qeye(N), qeye(N))\n",
        "a_2 = tensor(qeye(N), destroy(N), qeye(N), qeye(N), qeye(N), qeye(N))\n",
        "a_3 = tensor(qeye(N), qeye(N), destroy(N), qeye(N), qeye(N), qeye(N))\n",
        "a_4 = tensor(qeye(N), qeye(N), qeye(N), destroy(N), qeye(N), qeye(N))\n",
        "a_5 = tensor(qeye(N), qeye(N), qeye(N), qeye(N), destroy(N), qeye(N))\n",
        "a_6 = tensor(qeye(N), qeye(N), qeye(N), qeye(N), qeye(N), destroy(N))\n",
        "\n",
        "a_list = [a_1, a_2, a_3, a_4, a_5, a_6]\n",
        "\n",
        "# Cavity Hamiltonian and coupling Hamiltonian\n",
        "H_f = w_f*sumHamiltonians(a_list)\n",
        "H_gf = g_f1*(rwaCoupling(a_1, a_2)+rwaCoupling(a_2, a_3)+rwaCoupling(a_3, a_4)+rwaCoupling(a_5, a_6))\n",
        "\n",
        "# resultant Hamiltonian for 6 cavities\n",
        "H_6 = H_f + H_gf\n",
        "H_6"
      ],
      "outputs": [
        {
          "output_type": "execute_result",
          "execution_count": 138,
          "data": {
            "text/plain": [
              "Quantum object: dims = [[2, 2, 2, 2, 2, 2], [2, 2, 2, 2, 2, 2]], shape = (64, 64), type = oper, isherm = True\n",
              "Qobj data =\n",
              "[[  0.           0.           0.         ...   0.           0.\n",
              "    0.        ]\n",
              " [  0.          44.61061568   0.74141587 ...   0.           0.\n",
              "    0.        ]\n",
              " [  0.           0.74141587  44.61061568 ...   0.           0.\n",
              "    0.        ]\n",
              " ...\n",
              " [  0.           0.           0.         ... 223.0530784    0.74141587\n",
              "    0.        ]\n",
              " [  0.           0.           0.         ...   0.74141587 223.0530784\n",
              "    0.        ]\n",
              " [  0.           0.           0.         ...   0.           0.\n",
              "  267.66369409]]"
            ],
            "text/latex": [
              "Quantum object: dims = [[2, 2, 2, 2, 2, 2], [2, 2, 2, 2, 2, 2]], shape = (64, 64), type = oper, isherm = True\\begin{equation*}\\left(\\begin{array}{*{11}c}0.0 & 0.0 & 0.0 & 0.0 & 0.0 & \\cdots & 0.0 & 0.0 & 0.0 & 0.0 & 0.0\\\\0.0 & 44.611 & 0.741 & 0.0 & 0.0 & \\cdots & 0.0 & 0.0 & 0.0 & 0.0 & 0.0\\\\0.0 & 0.741 & 44.611 & 0.0 & 0.0 & \\cdots & 0.0 & 0.0 & 0.0 & 0.0 & 0.0\\\\0.0 & 0.0 & 0.0 & 89.221 & 0.0 & \\cdots & 0.0 & 0.0 & 0.0 & 0.0 & 0.0\\\\0.0 & 0.0 & 0.0 & 0.0 & 44.611 & \\cdots & 0.0 & 0.0 & 0.0 & 0.0 & 0.0\\\\\\vdots & \\vdots & \\vdots & \\vdots & \\vdots & \\ddots & \\vdots & \\vdots & \\vdots & \\vdots & \\vdots\\\\0.0 & 0.0 & 0.0 & 0.0 & 0.0 & \\cdots & 223.053 & 0.0 & 0.0 & 0.0 & 0.0\\\\0.0 & 0.0 & 0.0 & 0.0 & 0.0 & \\cdots & 0.0 & 178.442 & 0.0 & 0.0 & 0.0\\\\0.0 & 0.0 & 0.0 & 0.0 & 0.0 & \\cdots & 0.0 & 0.0 & 223.053 & 0.741 & 0.0\\\\0.0 & 0.0 & 0.0 & 0.0 & 0.0 & \\cdots & 0.0 & 0.0 & 0.741 & 223.053 & 0.0\\\\0.0 & 0.0 & 0.0 & 0.0 & 0.0 & \\cdots & 0.0 & 0.0 & 0.0 & 0.0 & 267.664\\\\\\end{array}\\right)\\end{equation*}"
            ]
          },
          "metadata": {}
        }
      ],
      "execution_count": 138,
      "metadata": {
        "collapsed": false,
        "outputHidden": false,
        "inputHidden": false
      }
    },
    {
      "cell_type": "markdown",
      "source": [
        "### 5.2 Computing the energy splitting and plotting the result"
      ],
      "metadata": {}
    },
    {
      "cell_type": "code",
      "source": [
        "n2 = [1, 2, 3, 4, 5, 6]\n",
        "\n",
        "# computes the eigenvalue matrix for ranger of frequencies\n",
        "evals_mat_6 = compute(w_q1List, H_6, N, numF6)\n",
        "\n",
        "# plots the energy splitting due to coupling\n",
        "plotEnergySplitting(n2, w_q1List, evals_mat_6, numF6)"
      ],
      "outputs": [
        {
          "output_type": "display_data",
          "data": {
            "text/plain": [
              "<Figure size 576x360 with 1 Axes>"
            ],
            "image/png": "[encoded data removed]"
          },
          "metadata": {
            "needs_background": "light"
          }
        }
      ],
      "execution_count": 140,
      "metadata": {
        "collapsed": false,
        "outputHidden": false,
        "inputHidden": false
      }
    },
    {
      "cell_type": "code",
      "source": [
        "spiltFreq(evals_mat_6, n2)"
      ],
      "outputs": [
        {
          "output_type": "stream",
          "name": "stdout",
          "text": [
            "['Split frequency  0 = 6.91', 'Split frequency  1 = 6.98', 'Split frequency  2 = 7.03', 'Split frequency  3 = 7.17', 'Split frequency  4 = 7.22', 'Split frequency  5 = 7.29']\n"
          ]
        }
      ],
      "execution_count": 141,
      "metadata": {
        "collapsed": false,
        "outputHidden": false,
        "inputHidden": false
      }
    }
  ],
  "metadata": {
    "kernel_info": {
      "name": "python3"
    },
    "language_info": {
      "name": "python",
      "version": "3.7.3",
      "mimetype": "text/x-python",
      "codemirror_mode": {
        "name": "ipython",
        "version": 3
      },
      "pygments_lexer": "ipython3",
      "nbconvert_exporter": "python",
      "file_extension": ".py"
    },
    "kernelspec": {
      "name": "python3",
      "language": "python",
      "display_name": "Python 3"
    },
    "nteract": {
      "version": "0.14.5"
    }
  },
  "nbformat": 4,
  "nbformat_minor": 0
}