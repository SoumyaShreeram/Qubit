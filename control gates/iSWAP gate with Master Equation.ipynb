{
  "cells": [
    {
      "cell_type": "markdown",
      "source": [
        "# Sending a pulse through a 3 cavity-2 qubit system, <mark>without thermal losses</mark> \n",
        "\n",
        "1. **Introduction**\n",
        "2. **Problem parameters**\n",
        "3. **Setting up operators, Hamiltonian's, and the initial state**\n",
        "4. **Generating a pulse wave**\n",
        "    * No thermal losses considered\n",
        "5. **Results**\n",
        "    * Final state, Fidelity, Concurrence\n",
        "\n",
        "<u>Author</u> : Soumya Shreeram (shreeramsoumya@gmail.com)<br>\n",
        "<u>Supervisor</u> : Yu-Chin Chao (ychao@fnal.gov) <br>\n",
        "<u>Date</u>$\\ \\ \\ \\$: 8th July 2019<br>\n",
        "\n",
        "This script was coded as part of the Helen Edwards Summer Internship program at Fermilab."
      ],
      "metadata": {}
    },
    {
      "cell_type": "markdown",
      "source": [
        "## 1. Introduction\n",
        "\n",
        "A multi-mode QED architecture is explored as described in by [McKay et *al*](http://schusterlab.uchicago.edu/static/pdfs/McKay2015.pdf). The hamiltonian for such a system with two qubits with frequencies $v_{Q,1}$, $v_{Q,2}$, and $n$ mode filter can be described as the sum of the qubit Hamiltonian, $\\hat{H}_Q$, the filter Hamiltonian, $\\hat{H}_F$, and the qubit-filter coupling Hamiltonian, $\\hat{H}_{Q-F},$\n",
        "$$ \\hat{H} = \\hat{H_Q} + \\hat{H_F} + \\hat{H}_{Q-F} $$\n",
        "\n",
        "$$ \\hat{H_Q} = h\\ v_{Q,1}\\ \\frac{\\hat{ \\sigma}^z_1}{2} + h\\ v_{Q,2}\\ \\frac{\\hat{ \\sigma}^z_2}{2}$$\n",
        "\n",
        "$$ \\hat{H}_{F} = \\sum_{i=1}^{n}h\\ v_{F}\\ \\hat{a}^{\\dagger}_i \\hat{a}_i +  \\sum_{i=2}^{n}h\\ g_{F}\\ (\\hat{a}^{\\dagger}_i \\hat{a}_{i-1} + \\hat{a}^{\\dagger}_{i-1} \\hat{a}_i)$$\n",
        "\n",
        "$$ \\hat{H}_{Q-F} = h\\ g_{Q1,F}\\ (\\hat{a}^{\\dagger}_1 \\hat{\\sigma}^-_1 + \\hat{a}_1 \\hat{\\sigma}^+_1) + h\\ g_{Q2,F}\\ (\\hat{a}^{\\dagger}_n \\hat{\\sigma}^-_2 + \\hat{a}_n \\hat{\\sigma}^+_2)$$\n",
        "\n",
        "where $\\hat{\\sigma}^{+(-)}$ is the raising and lowering operator for the qubit, $\\hat{a}_i$ creates a photon in the $i^{th}$ resonantor, $g_F$ is the filter-filter coupling, and $g_{Q,F}$ is the qubit-filter coupling.\n",
        "\n",
        "Here we must also account for the interaction of the quantum state with it's environment. This can be represented by a non-Hermitian term in the Hamiltonian such that,\n",
        "$$\\displaystyle H_{\\rm eff}(t) = H(t) - \\frac{i\\hbar}{2}\\sum_n c_n^\\dagger c_n$$\n",
        "where $c_n$ is the collapse operator\n",
        "\n",
        "The code calculates the eigen modes for such a system when the qubit 1 frequency is changed. "
      ],
      "metadata": {}
    },
    {
      "cell_type": "code",
      "source": [
        "%matplotlib inline\n",
        "import matplotlib.pyplot as plt\n",
        "plt.rcParams.update({'font.size': 16})\n",
        "import numpy as np\n",
        "from math import pi\n",
        "from qutip import *"
      ],
      "outputs": [],
      "execution_count": 21,
      "metadata": {
        "collapsed": false,
        "outputHidden": false,
        "inputHidden": false
      }
    },
    {
      "cell_type": "markdown",
      "source": [
        "## 2. Problem parameters\n",
        "Here we use $\\hbar=1$; the coupling terms are redefined with a multiple of $2\\pi$ before them for convinience."
      ],
      "metadata": {}
    },
    {
      "cell_type": "code",
      "source": [
        "\"\"\"------------- FREQUENCIES -----------------\"\"\"\n",
        "w_q1 = 2*pi*6.5;    # Qubit 1 frequency\n",
        "w_q2 = 2*pi*6.8;    # Qubit 2 frequency: range from 1-9 GHz\n",
        "w_f = 2*pi*7.1;     # Resonator/ Filter frequency\n",
        "\"\"\"------------- COUPLING --------------------\"\"\"\n",
        "g_f1 = 2*pi*0.118    # Filter-filter coupling\n",
        "g_f2 = 2*pi*0.344 \n",
        "g_q1f = 2*pi*0.135   # qubit 1-fitler coupling\n",
        "g_q2f = 2*pi*0.415   # qubit 2-fitler coupling\n",
        "\n",
        "numF = 3            # number of filters\n",
        "N = 2               # number of fock states \n",
        "\n",
        "times = np.linspace(30,500,1000)\n",
        "width = 0.5\n",
        "\n",
        "\"\"\"------------- DISSIPATION PARAMETERS -----\"\"\"\n",
        "kappa = 0.75       # cavity dissipation rate\n",
        "n_th_a = 0.003     # avg. no. of thermal bath excitation\n",
        "r1 = 0.075           # qubit relaxation rate\n",
        "r2 = 0.025           # qubit dephasing rate\n",
        "\n",
        "# resonant SQRT iSWAP gate\n",
        "T0_1 = 40\n",
        "T_gate_1 = (1*pi)/(4 * g_q1f)\n",
        "T_gate_1 = 50\n",
        "# resonant iSWAP gate\n",
        "T0_2 = 160\n",
        "T_gate_2 = (2*pi)/(4 * g_q2f)\n",
        "T_gate_2 = 100"
      ],
      "outputs": [],
      "execution_count": 2,
      "metadata": {
        "collapsed": false,
        "outputHidden": false,
        "inputHidden": false
      }
    },
    {
      "cell_type": "markdown",
      "source": [
        "## 3. Setting up the operators, Hamiltonian's, and Initial state\n",
        "\n",
        "For every qubit: <br> <br>\n",
        "**sm** $\\ \\rightarrow \\ \\hat{\\sigma}^{+(-)}$ is the raising and lowering operator of the *qubit* <br>\n",
        "**sz** $\\ \\ \\rightarrow \\ \\sigma_z $ is the Pauli-z matrix of the *qubit* <br>\n",
        "**n** $\\ \\ \\ \\rightarrow \\ n$ is the number operator"
      ],
      "metadata": {}
    },
    {
      "cell_type": "code",
      "source": [
        "def Hqubit(sz):\n",
        "  \"\"\" \n",
        "  Comuptes the qubit hamiltonian\n",
        "  @param sz :: Pauli's z matrix\n",
        "  @param w_q :: qubit frequency\n",
        "  \"\"\"\n",
        "  return 0.5*sz\n",
        "\n",
        "def numOp(m):\n",
        "  \"\"\"\n",
        "  Computes the number operator \n",
        "  @param loweringMat :: lowering matrix operator for a system\n",
        "  \"\"\"\n",
        "  return m.dag()*m\n",
        "\n",
        "def sumDagger(m):\n",
        "  \"\"\"\n",
        "  Computes sum of operator m and m.dag()\n",
        "  @param a1 :: destruction operator 1\n",
        "  @param a2 :: destruction operator 2\n",
        "  \"\"\"\n",
        "  return m+m.dag()"
      ],
      "outputs": [],
      "execution_count": 3,
      "metadata": {
        "collapsed": false,
        "outputHidden": false,
        "inputHidden": false
      }
    },
    {
      "cell_type": "markdown",
      "source": [
        "### 3.1 Operators "
      ],
      "metadata": {}
    },
    {
      "cell_type": "code",
      "source": [
        "# cavity 1, 2, 3 destruction operators\n",
        "a1 = tensor(destroy(N), qeye(N), qeye(N), qeye(2), qeye(2))\n",
        "a2 = tensor(qeye(N), destroy(N), qeye(N), qeye(2), qeye(2))\n",
        "a3 = tensor(qeye(N), qeye(N), destroy(N), qeye(2), qeye(2))\n",
        "\n",
        "# operators for qubit 1 \n",
        "sm1 = tensor(qeye(N), qeye(N), qeye(N), destroy(2), qeye(2))\n",
        "sz1 = tensor(qeye(N), qeye(N), qeye(N), sigmaz(), qeye(2))    \n",
        "n1 = sm1.dag() * sm1\n",
        "\n",
        "# operators for qubit 2\n",
        "sm2 = tensor(qeye(N), qeye(N), qeye(N), qeye(2), destroy(2))\n",
        "sz2 = tensor(qeye(N), qeye(N), qeye(N), qeye(2), sigmaz())\n",
        "n2 = sm2.dag() * sm2"
      ],
      "outputs": [],
      "execution_count": 4,
      "metadata": {
        "collapsed": false,
        "outputHidden": false,
        "inputHidden": false
      }
    },
    {
      "cell_type": "code",
      "source": [
        "# collapse operators\n",
        "c_ops = []\n",
        "\n",
        "# cavity relaxation\n",
        "rate = kappa * (1 + n_th_a)\n",
        "c_ops.append(np.sqrt(rate) * a1)\n",
        "    \n",
        "# cavity excitation\n",
        "\n",
        "# qubit 1 relaxation\n",
        "c_ops.append(np.sqrt(r1 * (1+n_th_a)) * sm1)\n",
        "c_ops.append(np.sqrt(r1 * n_th_a) * sm1.dag())\n",
        "c_ops.append(np.sqrt(r2) * sz1)\n",
        "\n",
        "# qubit 2 relaxation\n",
        "c_ops.append(np.sqrt(r1 * (1+n_th_a)) * sm2)\n",
        "c_ops.append(np.sqrt(r1 * n_th_a) * sm2.dag())\n",
        "c_ops.append(np.sqrt(r2) * sz2)"
      ],
      "outputs": [],
      "execution_count": 5,
      "metadata": {
        "collapsed": false,
        "outputHidden": false,
        "inputHidden": false
      }
    },
    {
      "cell_type": "markdown",
      "source": [
        "### 3.2 Hamiltonian's and initial state"
      ],
      "metadata": {}
    },
    {
      "cell_type": "code",
      "source": [
        "# Qubit Hamiltonians (Hq1+Hq2)\n",
        "Hq1 = Hqubit(sz1)       \n",
        "Hq2 = Hqubit(sz2)\n",
        "\n",
        "# Filter Hamiltonians (refer formula in the Introduction)\n",
        "H_f1 = tensor(destroy(N),create(N),qeye(N),qeye(2), qeye(2)) + tensor(create(N),destroy(N),qeye(N),qeye(2), qeye(2))\n",
        "H_f2 = tensor(qeye(N),create(N),destroy(N),qeye(2), qeye(2)) + tensor(qeye(N),destroy(N),create(N),qeye(2), qeye(2))\n",
        "\n",
        "Hf = numOp(a1) + numOp(a2) + numOp(a3)    \n",
        "H_f12 = g_f1*H_f1+g_f2*H_f2\n",
        "\n",
        "# Qubit-Filter Hamiltonian\n",
        "H_qf1 = tensor(destroy(N),qeye(N), qeye(N), sigmap(),qeye(2))\n",
        "H_qf2 = tensor(qeye(N),qeye(N), destroy(N), qeye(2), sigmap())\n",
        "\n",
        "Hqf = g_q1f*sumDagger(H_qf1) + g_q2f*sumDagger(H_qf2)\n",
        "\n",
        "# time-independent Hamiltonian (see later)\n",
        "H0 = H_f12+Hqf\n",
        " \n",
        "H = H0+ w_q1*Hq1 + w_q2*Hq2 + w_f*Hf  # Resultant Hamiltonian"
      ],
      "outputs": [],
      "execution_count": 6,
      "metadata": {
        "collapsed": false,
        "outputHidden": false,
        "inputHidden": false
      }
    },
    {
      "cell_type": "markdown",
      "source": [
        "### 3.3 Initial State"
      ],
      "metadata": {}
    },
    {
      "cell_type": "code",
      "source": [
        "# initial state of the system. Qubit 1, Qubit 2: ground st.\n",
        "psi0 = tensor(basis(N,0), basis(N,0), basis(N,0), basis(2,1), basis(2,0))"
      ],
      "outputs": [],
      "execution_count": 7,
      "metadata": {
        "collapsed": false,
        "outputHidden": false,
        "inputHidden": false
      }
    },
    {
      "cell_type": "markdown",
      "source": [
        "## 4. Generating the pulse wave\n",
        "\n",
        "Tranformations on closed quantum states can be modelled by unitary operators. The combined time-dependent Hamiltonian for a system undergoing a tranformation that can be representated as,\n",
        "$$ H(t) = H_0 + \\sum_{i=0}^n c_i(t)H_i$$\n",
        "where $H_0$ is called the time-independent drift Hamiltonian and $H_i$ are the control Hamiltonians with a time varying amplitude $c_i(t)$.\n",
        "\n",
        "Here we write the Hamiltonian in a function-based time dependent way. See other ways [here](http://qutip.org/docs/latest/guide/dynamics/dynamics-time.html). Here the time-dependent coefficients, $f_n(t)$ of the Hamiltonian (e.g. `wf_t, w1_t,w2_t`) are expressed using Python functions \n",
        "\n",
        "### 4.1 Function generators"
      ],
      "metadata": {}
    },
    {
      "cell_type": "code",
      "source": [
        "def step_t(w1, w2, t0, width, t):\n",
        "    \"\"\"\n",
        "    Step function that goes from w1 to w2 at time t0\n",
        "    as a function of t. \n",
        "    \"\"\"\n",
        "    return w1 + (w2 - w1) * (t > t0)\n",
        " \n",
        "def wf_t(t, args=None):\n",
        "    \"\"\"\n",
        "    Function defines the time depended co-efficent of the filters\n",
        "    (Although, there is no frequency change of the filters with time)\n",
        "    so w_f(t) = constant\n",
        "    \"\"\"\n",
        "    return w_f\n",
        "  \n",
        "def w1_t(t, args=None):\n",
        "    \"\"\"\n",
        "    Function defines the time depended co-efficent of the qubit 1\n",
        "    w_q1(t) is a pulse wave going from 0 to height (w_f-w_q1) at T0_1 \n",
        "    \"\"\"\n",
        "    return w_q1 + step_t(0.0, w_f-w_q1, T0_1, width, t) - step_t(0.0, w_f-w_q1, T0_1+T_gate_1, width, t)\n",
        "\n",
        "def w2_t(t, args=None):\n",
        "    \"\"\"\n",
        "    Function defines the time depended co-efficent of the qubit 2\n",
        "    w_q1(t) is a pulse wave going from 0 to height (w_f-w_q2) at T0_2 \n",
        "    \"\"\"\n",
        "    return w_q2 + step_t(0.0, w_f-w_q2, T0_2, width, t) - step_t(0.0, w_f-w_q2, T0_2+T_gate_2, width, t)"
      ],
      "outputs": [],
      "execution_count": 8,
      "metadata": {
        "collapsed": false,
        "outputHidden": false,
        "inputHidden": false
      }
    },
    {
      "cell_type": "code",
      "source": [
        "# time dependent Hamiltonian\n",
        "H_t = [H0 + w_f*Hf, [Hq1, w1_t], [Hq2, w2_t]]\n",
        "\n",
        "# changin default number of steps for the dynamic solver\n",
        "options = Options(nsteps=10000)\n",
        "\n",
        "# Evolving the system\n",
        "res = mesolve(H_t, psi0, times, c_ops, [], options=options)"
      ],
      "outputs": [],
      "execution_count": 9,
      "metadata": {
        "collapsed": false,
        "outputHidden": false,
        "inputHidden": false
      }
    },
    {
      "cell_type": "markdown",
      "source": [
        "### 4.2 Plotting the results (with termal loses)"
      ],
      "metadata": {}
    },
    {
      "cell_type": "code",
      "source": [
        "fig, axes = plt.subplots(2, 1, sharex=True, figsize=(8,8))\n",
        "\n",
        "axes[0].plot(times, np.array(list(map(wf_t, times))) / (2*pi), 'r', linewidth=2, label=\"cavity\")\n",
        "axes[0].plot(times, np.array(list(map(w1_t, times))) / (2*pi), 'b', linewidth=2, label=\"qubit 1\")\n",
        "axes[0].plot(times, np.array(list(map(w2_t, times))) / (2*pi), 'g', linewidth=2, label=\"qubit 2\")\n",
        "axes[0].set_ylabel(\"Frequency (GHz)\", fontsize=16)\n",
        "axes[0].legend(loc=\"upper right\")\n",
        "\n",
        "axes[1].plot(times, np.real(expect(numOp(a3), res.states)), 'r', linewidth=2, label=\"cavity 3\")\n",
        "axes[1].plot(times, np.real(expect(numOp(a2), res.states)), '--', linewidth=2, label=\"cavity 2\")\n",
        "axes[1].plot(times, np.real(expect(n1, res.states)), 'b', linewidth=2, label=\"qubit 1\")\n",
        "axes[1].plot(times, np.real(expect(n2, res.states)), 'g', linewidth=2, label=\"qubit 2\")\n",
        "\n",
        "axes[1].set_xlabel(\"Time (ns)\", fontsize=16)\n",
        "axes[1].set_ylabel(\"Occupation probability\", fontsize=16)\n",
        "axes[1].legend(loc=\"upper right\")\n",
        "#axes[1].set_xlim(30, 100)\n",
        "#axes[1].set_ylim(0, 0.2)\n",
        "\n",
        "\n",
        "fig.tight_layout()"
      ],
      "outputs": [
        {
          "output_type": "display_data",
          "data": {
            "text/plain": [
              "<Figure size 576x576 with 2 Axes>"
            ],
            "image/png": "[encoded data removed]"
          },
          "metadata": {
            "needs_background": "light"
          }
        }
      ],
      "execution_count": 24,
      "metadata": {
        "collapsed": false,
        "outputHidden": false,
        "inputHidden": false
      }
    },
    {
      "cell_type": "markdown",
      "source": [
        "## 5. Results"
      ],
      "metadata": {}
    },
    {
      "cell_type": "code",
      "source": [
        "# extract the final state from the result of the simulation\n",
        "rho_final = res.states[-1]\n",
        "\n",
        "# trace out the resonator mode and print the two-qubit density matrix\n",
        "rho_qubits = ptrace(rho_final, [1,2])\n",
        "rho_qubits"
      ],
      "outputs": [
        {
          "output_type": "execute_result",
          "execution_count": 11,
          "data": {
            "text/plain": [
              "Quantum object: dims = [[2, 2], [2, 2]], shape = (4, 4), type = oper, isherm = True\n",
              "Qobj data =\n",
              "[[0.34457979+0.j         0.        +0.j         0.        +0.j\n",
              "  0.        +0.j        ]\n",
              " [0.        +0.j         0.34758956+0.j         0.00927172+0.00938337j\n",
              "  0.        +0.j        ]\n",
              " [0.        +0.j         0.00927172-0.00938337j 0.16066705+0.j\n",
              "  0.        +0.j        ]\n",
              " [0.        +0.j         0.        +0.j         0.        +0.j\n",
              "  0.1471636 +0.j        ]]"
            ],
            "text/latex": [
              "Quantum object: dims = [[2, 2], [2, 2]], shape = (4, 4), type = oper, isherm = True\\begin{equation*}\\left(\\begin{array}{*{11}c}0.345 & 0.0 & 0.0 & 0.0\\\\0.0 & 0.348 & (0.009+0.009j) & 0.0\\\\0.0 & (0.009-0.009j) & 0.161 & 0.0\\\\0.0 & 0.0 & 0.0 & 0.147\\\\\\end{array}\\right)\\end{equation*}"
            ]
          },
          "metadata": {}
        }
      ],
      "execution_count": 11,
      "metadata": {
        "collapsed": false,
        "outputHidden": false,
        "inputHidden": false
      }
    },
    {
      "cell_type": "code",
      "source": [
        "# compare to the ideal result of the sqrtiswap gate (plus phase correction) for the current initial state\n",
        "rho_qubits_ideal = ket2dm(tensor(phasegate(0), phasegate(-pi/2)) * sqrtiswap() * tensor(basis(2,1), basis(2,0)))\n",
        "rho_qubits_ideal"
      ],
      "outputs": [
        {
          "output_type": "execute_result",
          "execution_count": 12,
          "data": {
            "text/plain": [
              "Quantum object: dims = [[2, 2], [2, 2]], shape = (4, 4), type = oper, isherm = True\n",
              "Qobj data =\n",
              "[[0.  0.  0.  0. ]\n",
              " [0.  0.5 0.5 0. ]\n",
              " [0.  0.5 0.5 0. ]\n",
              " [0.  0.  0.  0. ]]"
            ],
            "text/latex": [
              "Quantum object: dims = [[2, 2], [2, 2]], shape = (4, 4), type = oper, isherm = True\\begin{equation*}\\left(\\begin{array}{*{11}c}0.0 & 0.0 & 0.0 & 0.0\\\\0.0 & 0.500 & 0.500 & 0.0\\\\0.0 & 0.500 & 0.500 & 0.0\\\\0.0 & 0.0 & 0.0 & 0.0\\\\\\end{array}\\right)\\end{equation*}"
            ]
          },
          "metadata": {}
        }
      ],
      "execution_count": 12,
      "metadata": {
        "collapsed": false,
        "outputHidden": false,
        "inputHidden": false
      }
    },
    {
      "cell_type": "markdown",
      "source": [
        "### 5.2 Fidelity and Concurrence"
      ],
      "metadata": {}
    },
    {
      "cell_type": "code",
      "source": [
        "fidelity(rho_qubits, rho_qubits_ideal)"
      ],
      "outputs": [
        {
          "output_type": "execute_result",
          "execution_count": 13,
          "data": {
            "text/plain": [
              "0.5132251282662906"
            ]
          },
          "metadata": {}
        }
      ],
      "execution_count": 13,
      "metadata": {
        "collapsed": false,
        "outputHidden": false,
        "inputHidden": false
      }
    },
    {
      "cell_type": "code",
      "source": [
        "concurrence(rho_qubits)"
      ],
      "outputs": [
        {
          "output_type": "execute_result",
          "execution_count": 14,
          "data": {
            "text/plain": [
              "0"
            ]
          },
          "metadata": {}
        }
      ],
      "execution_count": 14,
      "metadata": {
        "collapsed": false,
        "outputHidden": false,
        "inputHidden": false
      }
    }
  ],
  "metadata": {
    "kernel_info": {
      "name": "python3"
    },
    "language_info": {
      "name": "python",
      "version": "3.7.3",
      "mimetype": "text/x-python",
      "codemirror_mode": {
        "name": "ipython",
        "version": 3
      },
      "pygments_lexer": "ipython3",
      "nbconvert_exporter": "python",
      "file_extension": ".py"
    },
    "kernelspec": {
      "name": "python3",
      "language": "python",
      "display_name": "Python 3"
    },
    "nteract": {
      "version": "0.14.4"
    }
  },
  "nbformat": 4,
  "nbformat_minor": 0
}