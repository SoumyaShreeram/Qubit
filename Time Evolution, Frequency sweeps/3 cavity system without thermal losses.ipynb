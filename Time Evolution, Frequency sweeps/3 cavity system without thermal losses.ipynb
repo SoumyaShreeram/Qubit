{
  "cells": [
    {
      "cell_type": "markdown",
      "source": [
        "# Spectroscopy of a three 2D cavity system \n",
        "\n",
        "1. **Introduction**\n",
        "2. **Problem parameters**\n",
        "3. **Setting up the operators and the Hamiltonian's**\n",
        "4. **Computing and plotting the eigenfrequencies of the coupled system**\n",
        "\n",
        "<u>Author</u> : Soumya Shreeram (shreeramsoumya@gmail.com)<br>\n",
        "<u>Supervisor</u> : Yu-Chin Chao (ychao@fnal.gov) <br>\n",
        "<u>Date</u>$\\ \\ \\ \\$: July 2019<br>\n",
        "\n",
        "This script was coded as part of the Helen Edwards Summer Internship program at Fermilab."
      ],
      "metadata": {}
    },
    {
      "cell_type": "markdown",
      "source": [
        "The hamiltonian for such a system with two qubits with frequencies $v_{Q,1}$, $v_{Q,2}$, and $n$ mode filter can be described as,\n",
        "\n",
        "$$ \\hat{H}_{F} = \\sum_{i=1}^{n}h\\ v_{F}\\ \\hat{a}^{\\dagger}_i \\hat{a}_i +  \\sum_{i=2}^{n}h\\ g_{F}\\ (\\hat{a}^{\\dagger}_i \\hat{a}_{i-1} + \\hat{a}^{\\dagger}_{i-1} \\hat{a}_i)$$\n",
        "\n",
        "where $\\hat{a}_i$ creates a photon in the $i^{th}$ resonantor, and $g_F$ is the filter-filter coupling.\n",
        "\n",
        "The code calculates the eigen modes for such a system for a range of frequencies."
      ],
      "metadata": {}
    },
    {
      "cell_type": "code",
      "source": [
        "%matplotlib inline\n",
        "import matplotlib.pyplot as plt\n",
        "plt.rcParams.update({'font.size': 16})\n",
        "import numpy as np\n",
        "from math import pi\n",
        "from qutip import *"
      ],
      "outputs": [],
      "execution_count": 1,
      "metadata": {
        "collapsed": false,
        "outputHidden": false,
        "inputHidden": false
      }
    },
    {
      "cell_type": "markdown",
      "source": [
        "## 2. Problem parameters"
      ],
      "metadata": {}
    },
    {
      "cell_type": "code",
      "source": [
        "\"\"\"------------- FREQUENCIES --------------------\"\"\"\n",
        "w_f = 2*pi*7.1      # Resonator/ Filter frequency\n",
        "\n",
        "\"\"\"------------- COUPLING --------------------\"\"\"\n",
        "g_f1 = 2*pi*0.118    # Filter-filter coupling\n",
        "g_f2 = 2*pi*0.344 \n",
        "\n",
        "numF = 3            # number of filters\n",
        "N = 2               # number of fock states \n",
        "\n",
        "kappa = 1.0/0.129   # cavity dissipation rate\n",
        "n_th_a = 0.063      # avg. no. of thermal bath excitation\n",
        "r1 = 0.0075           # qubit relaxation rate\n",
        "r2 = 0.0025           # qubit dephasing rate\n",
        "\n",
        "times = np.linspace(0,100,800)"
      ],
      "outputs": [],
      "execution_count": 2,
      "metadata": {
        "collapsed": false,
        "outputHidden": false,
        "inputHidden": false
      }
    },
    {
      "cell_type": "markdown",
      "source": [
        "## 3. Setting up the operators and the Hamiltonian's"
      ],
      "metadata": {}
    },
    {
      "cell_type": "code",
      "source": [
        "def numOp(m):\n",
        "  \"\"\"\n",
        "  Computes the number operator \n",
        "  @param loweringMat :: lowering matrix operator for a system\n",
        "  \"\"\"\n",
        "  return m.dag()*m\n",
        "\n",
        "def rwaCoupling(m1, m2):\n",
        "    return m1.dag()*m2 + m1*m2.dag()"
      ],
      "outputs": [],
      "execution_count": 3,
      "metadata": {
        "collapsed": false,
        "outputHidden": false,
        "inputHidden": false
      }
    },
    {
      "cell_type": "code",
      "source": [
        "# cavity 1, 2, 3 destruction operators\n",
        "a1 = tensor(destroy(N), qeye(N), qeye(N))\n",
        "a2 = tensor(qeye(N), destroy(N), qeye(N))\n",
        "a3 = tensor(qeye(N), qeye(N), destroy(N))\n",
        "\n",
        "# Filter Hamiltonians (refer formula in the Introduction)\n",
        "Hf = numOp(a1) + numOp(a2) + numOp(a3)    \n",
        "H_f12 = g_f1*(rwaCoupling(a1, a2) + rwaCoupling(a2, a3))\n",
        " \n",
        "H = w_f*Hf + H_f12 # Resultant Hamiltonian\n",
        "\n",
        "# collapse operators\n",
        "c_ops = []"
      ],
      "outputs": [],
      "execution_count": 4,
      "metadata": {
        "collapsed": false,
        "outputHidden": false,
        "inputHidden": false
      }
    },
    {
      "cell_type": "code",
      "source": [
        "def compute(w_qList, H, N):\n",
        "  \"\"\"\n",
        "  Computes the Eigen-vales and states for a given qubit frequency\n",
        "  @param w_qList :: range of qubit frequencies\n",
        "  @param H_q1 :: Qubit 1 independent Hamiltonian \n",
        "  @param N :: Number of Fock states\n",
        "  @param sz1 :: z matrix for qubit 1\n",
        "  \"\"\"\n",
        "  evals_mat = np.zeros((len(w_qList), 8))\n",
        "  for i, w_qi in enumerate(w_qList):\n",
        "    evals, evecs = H.eigenstates()\n",
        "    evals_mat[i,:] = evals\n",
        "  return evals_mat\n",
        "\n",
        "def spiltFreq(evals_mat):\n",
        "    wf1 = (evals_mat[0, 1]-evals_mat[0, 0])/(2*pi)\n",
        "    wf2 = (evals_mat[0, 2]-evals_mat[0, 0])/(2*pi)\n",
        "    wf3 = (evals_mat[0, 3]-evals_mat[0, 0])/(2*pi)\n",
        "    return print(\"The three split frequencies are: %.2f, %.2f and %.2f \\n\"%(wf1, wf2, wf3))"
      ],
      "outputs": [],
      "execution_count": 16,
      "metadata": {
        "collapsed": false,
        "outputHidden": false,
        "inputHidden": false
      }
    },
    {
      "cell_type": "markdown",
      "source": [
        "## 4. Computing and plotting the eigenfrequencies of the coupled system"
      ],
      "metadata": {}
    },
    {
      "cell_type": "code",
      "source": [
        "# range of qubit 1 frequencies\n",
        "w_q1List = np.linspace(5,7.2,100)*2*pi\n",
        "\n",
        "evals_mat = compute(w_q1List, H, N)"
      ],
      "outputs": [],
      "execution_count": 17,
      "metadata": {
        "collapsed": false,
        "outputHidden": false,
        "inputHidden": false
      }
    },
    {
      "cell_type": "code",
      "source": [
        "fig,ax = plt.subplots(figsize=(8,5))\n",
        "\n",
        "for n in [1, 2, 3]:\n",
        "  ax.plot(w_q1List / (2 * pi), (evals_mat[:, n] - evals_mat[:, 0])/ (2 * pi), lw=2)\n",
        "ax.set_xlabel('Qubit 1 frequency sweep (GHz)')\n",
        "#ax.set_ylim([6.99,7.001])\n",
        "ax.set_ylabel('Eigenenergies (GHz)')\n",
        "ax.set_title('Energy Spectrum for 3 cavities')\n",
        "spiltFreq(evals_mat)"
      ],
      "outputs": [
        {
          "output_type": "stream",
          "name": "stdout",
          "text": [
            "The three split frequencies are: 6.93, 7.10 and 7.27 \n",
            "\n"
          ]
        },
        {
          "output_type": "display_data",
          "data": {
            "text/plain": [
              "<Figure size 576x360 with 1 Axes>"
            ],
            "image/png": "[encoded data removed]"
          },
          "metadata": {
            "needs_background": "light"
          }
        }
      ],
      "execution_count": 18,
      "metadata": {
        "collapsed": false,
        "outputHidden": false,
        "inputHidden": false
      }
    },
    {
      "cell_type": "code",
      "source": [],
      "outputs": [],
      "execution_count": null,
      "metadata": {
        "collapsed": false,
        "outputHidden": false,
        "inputHidden": false
      }
    }
  ],
  "metadata": {
    "kernel_info": {
      "name": "python3"
    },
    "language_info": {
      "name": "python",
      "version": "3.7.3",
      "mimetype": "text/x-python",
      "codemirror_mode": {
        "name": "ipython",
        "version": 3
      },
      "pygments_lexer": "ipython3",
      "nbconvert_exporter": "python",
      "file_extension": ".py"
    },
    "kernelspec": {
      "name": "python3",
      "language": "python",
      "display_name": "Python 3"
    },
    "nteract": {
      "version": "0.14.5"
    }
  },
  "nbformat": 4,
  "nbformat_minor": 0
}