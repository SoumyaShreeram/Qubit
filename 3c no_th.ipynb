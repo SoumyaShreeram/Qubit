{
  "cells": [
    {
      "cell_type": "markdown",
      "source": [
        "# Spectroscopy of a three 2D cavity system \n",
        "\n",
        "1. **Introduction**\n",
        "2. **Problem parameters**\n",
        "3. **Setting up the operators and the Hamiltonian's**\n",
        "4. **Computing and plotting the eigenfrequencies of the coupled system**\n",
        "\n",
        "<u>Author</u> : Soumya Shreeram (shreeramsoumya@gmail.com)<br>\n",
        "<u>Supervisor</u> : Yu-Chin Chao (ychao@fnal.gov) <br>\n",
        "<u>Date</u>$\\ \\ \\ \\$: July 2019<br>\n",
        "\n",
        "This script was coded as part of the Helen Edwards Summer Internship program at Fermilab."
      ],
      "metadata": {}
    },
    {
      "cell_type": "markdown",
      "source": [
        "The hamiltonian for such a system with two qubits with frequencies $v_{Q,1}$, $v_{Q,2}$, and $n$ mode filter can be described as,\n",
        "\n",
        "$$ \\hat{H}_{F} = \\sum_{i=1}^{n}h\\ v_{F}\\ \\hat{a}^{\\dagger}_i \\hat{a}_i +  \\sum_{i=2}^{n}h\\ g_{F}\\ (\\hat{a}^{\\dagger}_i \\hat{a}_{i-1} + \\hat{a}^{\\dagger}_{i-1} \\hat{a}_i)$$\n",
        "\n",
        "where $\\hat{a}_i$ creates a photon in the $i^{th}$ resonantor, and $g_F$ is the filter-filter coupling.\n",
        "\n",
        "The code calculates the eigen modes for such a system for a range of frequencies."
      ],
      "metadata": {}
    },
    {
      "cell_type": "code",
      "source": [
        "%matplotlib inline\n",
        "import matplotlib.pyplot as plt\n",
        "plt.rcParams.update({'font.size': 16})\n",
        "import numpy as np\n",
        "from math import pi\n",
        "from qutip import *"
      ],
      "outputs": [],
      "execution_count": 14,
      "metadata": {
        "collapsed": false,
        "outputHidden": false,
        "inputHidden": false
      }
    },
    {
      "cell_type": "markdown",
      "source": [
        "## 2. Problem parameters"
      ],
      "metadata": {}
    },
    {
      "cell_type": "code",
      "source": [
        "w_f1 = 2*pi*7.1     # Resonator/ Filter frequency\n",
        "w_f2 = 2*pi*7.24\n",
        "w_f3 = 2*pi*7.37\n",
        "g_f1 = 2*pi*1.818     # Filter-filter coupling\n",
        "g_f2 = 2*pi*3.0\n",
        "\n",
        "numF = 3             # number of filters\n",
        "N = 2                # number of fock states (??)\n",
        "\n",
        "tlist = np.linspace(0, 25, 101)"
      ],
      "outputs": [],
      "execution_count": 15,
      "metadata": {
        "collapsed": false,
        "outputHidden": false,
        "inputHidden": false
      }
    },
    {
      "cell_type": "markdown",
      "source": [
        "## 3. Setting up the operators and the Hamiltonian's"
      ],
      "metadata": {}
    },
    {
      "cell_type": "code",
      "source": [
        "# cavity 1, 2, 3 destruction operators\n",
        "a1 = tensor(destroy(N), qeye(N), qeye(N))\n",
        "a2 = tensor(qeye(N), destroy(N), qeye(N))\n",
        "a3 = tensor(qeye(N), qeye(N), destroy(N))\n",
        "\n",
        "# Filter Hamiltonians (refer formula in the Introduction)\n",
        "H_a1 = a1*a1.dag()\n",
        "H_a2 = a2*a2.dag()\n",
        "H_a3 = a3*a3.dag()\n",
        "\n",
        "H_f1 = tensor(destroy(N),create(N),qeye(N)) + tensor(create(N),destroy(N),qeye(N))\n",
        "H_f2 = tensor(qeye(N),create(N),destroy(N)) + tensor(qeye(N),destroy(N),create(N))\n",
        "\n",
        "Hf = w_f1*H_a1 + w_f2*H_a2 + w_f3*H_a3+ g_f1*H_f1+g_f2*H_f2   "
      ],
      "outputs": [],
      "execution_count": 16,
      "metadata": {
        "collapsed": false,
        "outputHidden": false,
        "inputHidden": false
      }
    },
    {
      "cell_type": "code",
      "source": [
        "def compute(w_qList, Hf, N):\n",
        "  \"\"\"\n",
        "  Computes the Eigen-vales and states for a given qubit frequency\n",
        "  @param w_qList :: range of qubit frequencies\n",
        "  @param H_q1 :: Qubit 1 independent Hamiltonian \n",
        "  @param N :: Number of Fock states\n",
        "  @param sz1 :: z matrix for qubit 1\n",
        "  \"\"\"\n",
        "  evals_mat = np.zeros((len(w_qList), 8))\n",
        "  for i, w_qi in enumerate(w_qList):\n",
        "    H = Hf \n",
        "    evals, evecs = H.eigenstates()\n",
        "    evals_mat[i,:] = evals\n",
        "  return evals_mat"
      ],
      "outputs": [],
      "execution_count": 17,
      "metadata": {
        "collapsed": false,
        "outputHidden": false,
        "inputHidden": false
      }
    },
    {
      "cell_type": "code",
      "source": [
        "print(Hf.eigenenergies())\n",
        "Hf "
      ],
      "outputs": [
        {
          "output_type": "stream",
          "name": "stdout",
          "text": [
            "[  0.          23.61644915  45.06677361  67.72473026  68.68322275\n",
            "  91.34117941 112.79150387 136.40795302]\n"
          ]
        },
        {
          "output_type": "execute_result",
          "execution_count": 18,
          "data": {
            "text/plain": [
              "Quantum object: dims = [[2, 2, 2], [2, 2, 2]], shape = (8, 8), type = oper, isherm = True\n",
              "Qobj data =\n",
              "[[136.40795302   0.           0.           0.           0.\n",
              "    0.           0.           0.        ]\n",
              " [  0.          90.1008773   18.84955592   0.           0.\n",
              "    0.           0.           0.        ]\n",
              " [  0.          18.84955592  90.91769139   0.          11.42283089\n",
              "    0.           0.           0.        ]\n",
              " [  0.           0.           0.          44.61061568   0.\n",
              "   11.42283089   0.           0.        ]\n",
              " [  0.           0.          11.42283089   0.          91.79733734\n",
              "    0.           0.           0.        ]\n",
              " [  0.           0.           0.          11.42283089   0.\n",
              "   45.49026162  18.84955592   0.        ]\n",
              " [  0.           0.           0.           0.           0.\n",
              "   18.84955592  46.30707571   0.        ]\n",
              " [  0.           0.           0.           0.           0.\n",
              "    0.           0.           0.        ]]"
            ],
            "text/latex": [
              "Quantum object: dims = [[2, 2, 2], [2, 2, 2]], shape = (8, 8), type = oper, isherm = True\\begin{equation*}\\left(\\begin{array}{*{11}c}136.408 & 0.0 & 0.0 & 0.0 & 0.0 & 0.0 & 0.0 & 0.0\\\\0.0 & 90.101 & 18.850 & 0.0 & 0.0 & 0.0 & 0.0 & 0.0\\\\0.0 & 18.850 & 90.918 & 0.0 & 11.423 & 0.0 & 0.0 & 0.0\\\\0.0 & 0.0 & 0.0 & 44.611 & 0.0 & 11.423 & 0.0 & 0.0\\\\0.0 & 0.0 & 11.423 & 0.0 & 91.797 & 0.0 & 0.0 & 0.0\\\\0.0 & 0.0 & 0.0 & 11.423 & 0.0 & 45.490 & 18.850 & 0.0\\\\0.0 & 0.0 & 0.0 & 0.0 & 0.0 & 18.850 & 46.307 & 0.0\\\\0.0 & 0.0 & 0.0 & 0.0 & 0.0 & 0.0 & 0.0 & 0.0\\\\\\end{array}\\right)\\end{equation*}"
            ]
          },
          "metadata": {}
        }
      ],
      "execution_count": 18,
      "metadata": {
        "collapsed": false,
        "outputHidden": false,
        "inputHidden": false
      }
    },
    {
      "cell_type": "markdown",
      "source": [
        "## 4. Computing and plotting the eigenfrequencies of the coupled system"
      ],
      "metadata": {}
    },
    {
      "cell_type": "code",
      "source": [
        "# range of qubit 1 frequencies\n",
        "w_q1List = np.linspace(0.1,7.2,100)*2*pi\n",
        "\n",
        "evals_mat = compute(w_q1List, Hf, N)\n",
        "\n",
        "y1 = evals_mat[:, 1] - evals_mat[:, 0]"
      ],
      "outputs": [],
      "execution_count": 19,
      "metadata": {
        "collapsed": false,
        "outputHidden": false,
        "inputHidden": false
      }
    },
    {
      "cell_type": "code",
      "source": [
        "fig,ax = plt.subplots(figsize=(8,5))\n",
        "\n",
        "for n in range(0,8):\n",
        "  ax.plot(w_q1List / (2 * pi), (evals_mat[:, n] - evals_mat[:, 0])/ (2 * pi), lw=2)\n",
        "ax.set_xlabel('Qubit 1 frequency sweep (GHz)')\n",
        "#ax.set_ylim([6.99,7.001])\n",
        "ax.set_ylabel('Eigenenergies (GHz)')\n",
        "ax.set_title('Energy Spectrum for 3 cavities')"
      ],
      "outputs": [
        {
          "output_type": "execute_result",
          "execution_count": 20,
          "data": {
            "text/plain": [
              "Text(0.5, 1.0, 'Energy Spectrum for 3 cavities')"
            ]
          },
          "metadata": {}
        },
        {
          "output_type": "display_data",
          "data": {
            "text/plain": [
              "<Figure size 576x360 with 1 Axes>"
            ],
            "image/png": "[encoded data removed]"
          },
          "metadata": {
            "needs_background": "light"
          }
        }
      ],
      "execution_count": 20,
      "metadata": {
        "collapsed": false,
        "outputHidden": false,
        "inputHidden": false
      }
    }
  ],
  "metadata": {
    "kernel_info": {
      "name": "python3"
    },
    "language_info": {
      "name": "python",
      "version": "3.7.3",
      "mimetype": "text/x-python",
      "codemirror_mode": {
        "name": "ipython",
        "version": 3
      },
      "pygments_lexer": "ipython3",
      "nbconvert_exporter": "python",
      "file_extension": ".py"
    },
    "kernelspec": {
      "name": "python3",
      "language": "python",
      "display_name": "Python 3"
    },
    "nteract": {
      "version": "0.14.3"
    }
  },
  "nbformat": 4,
  "nbformat_minor": 0
}